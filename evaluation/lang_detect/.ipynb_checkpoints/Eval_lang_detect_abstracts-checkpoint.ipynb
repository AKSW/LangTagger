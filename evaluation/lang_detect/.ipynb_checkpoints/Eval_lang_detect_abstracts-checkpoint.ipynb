{
 "cells": [
  {
   "cell_type": "code",
   "execution_count": 1,
   "metadata": {},
   "outputs": [],
   "source": [
    "from langdetect import detect\n",
    "import pandas as pd\n",
    "from sklearn.metrics import accuracy_score\n",
    "import numpy as np\n",
    "import datetime\n",
    "import time"
   ]
  },
  {
   "cell_type": "code",
   "execution_count": 2,
   "metadata": {},
   "outputs": [],
   "source": [
    "l = [\"../data/en_entity_label.csv\",\"../data/de_entity_label.csv\",\"../data/it_entity_label.csv\",\"../data/es_entity_label.csv\",\"../data/fr_entity_label.csv\",\"../data/pt_entity_label.csv\",\"../data/ru_entity_label.csv\"]\n",
    "times=[]\n",
    "scores=[]\n",
    "for d in l:\n",
    "    df_test = pd.read_csv(\"../\"+d)\n",
    "    df_test=df_test.dropna(subset=['questions'])\n",
    "    f_prediction = []\n",
    "    a = datetime.datetime.now()\n",
    "    for sentence in df_test['questions']:\n",
    "        f_prediction.append(detect(sentence))\n",
    "    b = datetime.datetime.now()\n",
    "    c = b-a\n",
    "    times.append(c/len(f_prediction))\n",
    "    scores.append(accuracy_score(df_test['lang'], f_prediction))"
   ]
  },
  {
   "cell_type": "code",
   "execution_count": 3,
   "metadata": {},
   "outputs": [
    {
     "data": {
      "text/plain": [
       "[0.40333828741282723,\n",
       " 0.42661179698216734,\n",
       " 0.6584362139917695,\n",
       " 0.3184841259882043,\n",
       " 0.6023017902813299,\n",
       " 0.43612334801762115,\n",
       " 0.5783132530120482]"
      ]
     },
     "execution_count": 3,
     "metadata": {},
     "output_type": "execute_result"
    }
   ],
   "source": [
    "scores"
   ]
  },
  {
   "cell_type": "code",
   "execution_count": 4,
   "metadata": {},
   "outputs": [
    {
     "data": {
      "text/plain": [
       "[datetime.timedelta(microseconds=11867),\n",
       " datetime.timedelta(microseconds=12991),\n",
       " datetime.timedelta(microseconds=12821),\n",
       " datetime.timedelta(microseconds=17100),\n",
       " datetime.timedelta(microseconds=10618),\n",
       " datetime.timedelta(microseconds=16070),\n",
       " datetime.timedelta(microseconds=14599)]"
      ]
     },
     "execution_count": 4,
     "metadata": {},
     "output_type": "execute_result"
    }
   ],
   "source": [
    "times"
   ]
  },
  {
   "cell_type": "code",
   "execution_count": null,
   "metadata": {},
   "outputs": [],
   "source": []
  }
 ],
 "metadata": {
  "kernelspec": {
   "display_name": "Python 3",
   "language": "python",
   "name": "python3"
  },
  "language_info": {
   "codemirror_mode": {
    "name": "ipython",
    "version": 3
   },
   "file_extension": ".py",
   "mimetype": "text/x-python",
   "name": "python",
   "nbconvert_exporter": "python",
   "pygments_lexer": "ipython3",
   "version": "3.7.7"
  }
 },
 "nbformat": 4,
 "nbformat_minor": 4
}
