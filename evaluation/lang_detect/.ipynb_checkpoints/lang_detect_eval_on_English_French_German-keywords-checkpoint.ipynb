{
 "cells": [
  {
   "cell_type": "code",
   "execution_count": 4,
   "metadata": {},
   "outputs": [],
   "source": [
    "from langdetect import detect\n",
    "import pandas as pd\n",
    "from sklearn.metrics import accuracy_score\n",
    "import numpy as np\n",
    "import time"
   ]
  },
  {
   "cell_type": "code",
   "execution_count": 5,
   "metadata": {},
   "outputs": [],
   "source": [
    "l = [\"../data/qald-3-test.csv\",\"../data/qald-4-test.csv\",\"../data/qald-5-test.csv\",\"../data/qald-6-test.csv\",\"../data/qald-7-test.csv\",\"../data/qald-8-test.csv\",\"../data/qald-9-test.csv\"]\n",
    "times=[]\n",
    "scores=[]\n",
    "\n",
    "for d in l:\n",
    "    df_test = pd.read_csv(\"../\"+d)\n",
    "    df_test=df_test[df_test[\"lang\"]=='en']\n",
    "    df_test=df_test.dropna(subset=['questions'])\n",
    "    X_test = df_test[\"questions\"]\n",
    "    y_test = df_test[\"lang\"]\n",
    "    \n",
    "    f_prediction=[]\n",
    "    a = time.time()\n",
    "    for q in X_test:\n",
    "        f_prediction.append(detect(q))\n",
    "    b = time.time()\n",
    "    c = b-a\n",
    "    times.append(c/len(f_prediction))\n",
    "    scores.append(accuracy_score(y_test, f_prediction))\n"
   ]
  },
  {
   "cell_type": "code",
   "execution_count": 6,
   "metadata": {},
   "outputs": [
    {
     "data": {
      "text/plain": [
       "[0.9595959595959596,\n",
       " 0.94,\n",
       " 0.9491525423728814,\n",
       " 0.97,\n",
       " 0.9069767441860465,\n",
       " 1.0,\n",
       " 0.92]"
      ]
     },
     "execution_count": 6,
     "metadata": {},
     "output_type": "execute_result"
    }
   ],
   "source": [
    "scores"
   ]
  },
  {
   "cell_type": "code",
   "execution_count": 9,
   "metadata": {},
   "outputs": [],
   "source": [
    "l = [\"../data/qald-3-test.csv\",\"../data/qald-4-test.csv\",\"../data/qald-5-test.csv\",\"../data/qald-6-test.csv\",\"../data/qald-7-test.csv\",\"../data/qald-9-test.csv\"]\n",
    "times=[]\n",
    "scores=[]\n",
    "\n",
    "for d in l:\n",
    "    df_test = pd.read_csv(\"../\"+d)\n",
    "    df_test=df_test[df_test[\"lang\"]=='de']\n",
    "    df_test=df_test.dropna(subset=['questions'])\n",
    "    X_test = df_test[\"questions\"]\n",
    "    y_test = df_test[\"lang\"]\n",
    "    \n",
    "    f_prediction=[]\n",
    "    a = time.time()\n",
    "    for q in X_test:\n",
    "        f_prediction.append(detect(q))\n",
    "    b = time.time()\n",
    "    c = b-a\n",
    "    times.append(c/len(f_prediction))\n",
    "    scores.append(accuracy_score(y_test, f_prediction))"
   ]
  },
  {
   "cell_type": "code",
   "execution_count": 10,
   "metadata": {},
   "outputs": [
    {
     "data": {
      "text/plain": [
       "[0.9696969696969697, 0.92, 0.9183673469387755, 0.88, 0.9767441860465116, 0.94]"
      ]
     },
     "execution_count": 10,
     "metadata": {},
     "output_type": "execute_result"
    }
   ],
   "source": [
    "scores"
   ]
  },
  {
   "cell_type": "code",
   "execution_count": 11,
   "metadata": {},
   "outputs": [],
   "source": [
    "l = [\"../data/qald-3-test.csv\",\"../data/qald-4-test.csv\",\"../data/qald-5-test.csv\",\"../data/qald-6-test.csv\",\"../data/qald-7-test.csv\",\"../data/qald-9-test.csv\"]\n",
    "times=[]\n",
    "scores=[]\n",
    "\n",
    "for d in l:\n",
    "    df_test = pd.read_csv(\"../\"+d)\n",
    "    df_test=df_test[df_test[\"lang\"]=='fr']\n",
    "    df_test=df_test.dropna(subset=['questions'])\n",
    "    X_test = df_test[\"questions\"]\n",
    "    y_test = df_test[\"lang\"]\n",
    "    \n",
    "    f_prediction=[]\n",
    "    a = time.time()\n",
    "    for q in X_test:\n",
    "        f_prediction.append(detect(q))\n",
    "    b = time.time()\n",
    "    c = b-a\n",
    "    times.append(c/len(f_prediction))\n",
    "    scores.append(accuracy_score(y_test, f_prediction))"
   ]
  },
  {
   "cell_type": "code",
   "execution_count": 12,
   "metadata": {},
   "outputs": [
    {
     "data": {
      "text/plain": [
       "[0.9292929292929293, 0.98, 0.9333333333333333, 0.91, 1.0, 0.9666666666666667]"
      ]
     },
     "execution_count": 12,
     "metadata": {},
     "output_type": "execute_result"
    }
   ],
   "source": [
    "scores"
   ]
  }
 ],
 "metadata": {
  "kernelspec": {
   "display_name": "Python 3",
   "language": "python",
   "name": "python3"
  },
  "language_info": {
   "codemirror_mode": {
    "name": "ipython",
    "version": 3
   },
   "file_extension": ".py",
   "mimetype": "text/x-python",
   "name": "python",
   "nbconvert_exporter": "python",
   "pygments_lexer": "ipython3",
   "version": "3.7.7"
  }
 },
 "nbformat": 4,
 "nbformat_minor": 4
}
