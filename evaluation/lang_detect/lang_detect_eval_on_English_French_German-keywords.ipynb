{
 "cells": [
  {
   "cell_type": "code",
   "execution_count": 1,
   "metadata": {},
   "outputs": [],
   "source": [
    "from langdetect import detect\n",
    "import pandas as pd\n",
    "from sklearn.metrics import accuracy_score\n",
    "import numpy as np\n",
    "import time"
   ]
  },
  {
   "cell_type": "code",
   "execution_count": 2,
   "metadata": {},
   "outputs": [],
   "source": [
    "l = [\"../data/qald-3-test.csv\",\"../data/qald-4-test.csv\",\"../data/qald-5-test.csv\",\"../data/qald-6-test.csv\",\"../data/qald-7-test.csv\",\"../data/qald-8-test.csv\",\"../data/qald-9-test.csv\"]\n",
    "times=[]\n",
    "scores=[]\n",
    "\n",
    "for d in l:\n",
    "    df_test = pd.read_csv(\"../\"+d)\n",
    "    df_test=df_test[df_test[\"lang\"]=='en']\n",
    "    df_test=df_test.dropna(subset=['keywords'])\n",
    "    X_test = df_test[\"keywords\"]\n",
    "    y_test = df_test[\"lang\"]\n",
    "    \n",
    "    f_prediction=[]\n",
    "    a = time.time()\n",
    "    for q in X_test:\n",
    "        f_prediction.append(detect(q))\n",
    "    b = time.time()\n",
    "    c = b-a\n",
    "    times.append(c/len(f_prediction))\n",
    "    scores.append(accuracy_score(y_test, f_prediction))\n"
   ]
  },
  {
   "cell_type": "code",
   "execution_count": 3,
   "metadata": {},
   "outputs": [
    {
     "data": {
      "text/plain": [
       "[0.5353535353535354,\n",
       " 0.68,\n",
       " 0.673469387755102,\n",
       " 0.7,\n",
       " 0.6511627906976745,\n",
       " 0.5121951219512195,\n",
       " 0.6866666666666666]"
      ]
     },
     "execution_count": 3,
     "metadata": {},
     "output_type": "execute_result"
    }
   ],
   "source": [
    "scores"
   ]
  },
  {
   "cell_type": "code",
   "execution_count": 4,
   "metadata": {},
   "outputs": [],
   "source": [
    "l = [\"../data/qald-3-test.csv\",\"../data/qald-4-test.csv\",\"../data/qald-5-test.csv\",\"../data/qald-6-test.csv\",\"../data/qald-7-test.csv\",\"../data/qald-9-test.csv\"]\n",
    "times=[]\n",
    "scores=[]\n",
    "\n",
    "for d in l:\n",
    "    df_test = pd.read_csv(\"../\"+d)\n",
    "    df_test=df_test[df_test[\"lang\"]=='de']\n",
    "    df_test=df_test.dropna(subset=['keywords'])\n",
    "    X_test = df_test[\"keywords\"]\n",
    "    y_test = df_test[\"lang\"]\n",
    "    \n",
    "    f_prediction=[]\n",
    "    a = time.time()\n",
    "    for q in X_test:\n",
    "        f_prediction.append(detect(q))\n",
    "    b = time.time()\n",
    "    c = b-a\n",
    "    times.append(c/len(f_prediction))\n",
    "    scores.append(accuracy_score(y_test, f_prediction))"
   ]
  },
  {
   "cell_type": "code",
   "execution_count": 5,
   "metadata": {},
   "outputs": [
    {
     "data": {
      "text/plain": [
       "[0.8080808080808081, 0.8, 0.7755102040816326, 0.71, 0.7441860465116279, 0.84]"
      ]
     },
     "execution_count": 5,
     "metadata": {},
     "output_type": "execute_result"
    }
   ],
   "source": [
    "scores"
   ]
  },
  {
   "cell_type": "code",
   "execution_count": 6,
   "metadata": {},
   "outputs": [],
   "source": [
    "l = [\"../data/qald-3-test.csv\",\"../data/qald-4-test.csv\",\"../data/qald-5-test.csv\",\"../data/qald-6-test.csv\",\"../data/qald-7-test.csv\",\"../data/qald-9-test.csv\"]\n",
    "times=[]\n",
    "scores=[]\n",
    "\n",
    "for d in l:\n",
    "    df_test = pd.read_csv(\"../\"+d)\n",
    "    df_test=df_test[df_test[\"lang\"]=='fr']\n",
    "    df_test=df_test.dropna(subset=['keywords'])\n",
    "    X_test = df_test[\"keywords\"]\n",
    "    y_test = df_test[\"lang\"]\n",
    "    \n",
    "    f_prediction=[]\n",
    "    a = time.time()\n",
    "    for q in X_test:\n",
    "        f_prediction.append(detect(q))\n",
    "    b = time.time()\n",
    "    c = b-a\n",
    "    times.append(c/len(f_prediction))\n",
    "    scores.append(accuracy_score(y_test, f_prediction))"
   ]
  },
  {
   "cell_type": "code",
   "execution_count": 7,
   "metadata": {},
   "outputs": [
    {
     "data": {
      "text/plain": [
       "[0.6161616161616161,\n",
       " 0.84,\n",
       " 0.8620689655172413,\n",
       " 0.69,\n",
       " 0.8837209302325582,\n",
       " 0.7733333333333333]"
      ]
     },
     "execution_count": 7,
     "metadata": {},
     "output_type": "execute_result"
    }
   ],
   "source": [
    "scores"
   ]
  }
 ],
 "metadata": {
  "kernelspec": {
   "display_name": "Python 3",
   "language": "python",
   "name": "python3"
  },
  "language_info": {
   "codemirror_mode": {
    "name": "ipython",
    "version": 3
   },
   "file_extension": ".py",
   "mimetype": "text/x-python",
   "name": "python",
   "nbconvert_exporter": "python",
   "pygments_lexer": "ipython3",
   "version": "3.7.7"
  }
 },
 "nbformat": 4,
 "nbformat_minor": 4
}
