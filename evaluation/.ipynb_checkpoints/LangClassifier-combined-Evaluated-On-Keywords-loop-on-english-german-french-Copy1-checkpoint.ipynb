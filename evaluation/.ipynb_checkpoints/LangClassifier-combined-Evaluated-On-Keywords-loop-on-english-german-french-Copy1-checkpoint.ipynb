{
 "cells": [
  {
   "cell_type": "code",
   "execution_count": 1,
   "metadata": {},
   "outputs": [],
   "source": [
    "import numpy as np\n",
    "import string\n",
    "from sklearn.metrics import accuracy_score,confusion_matrix\n",
    "from sklearn.naive_bayes import MultinomialNB\n",
    "from sklearn.feature_extraction.text import CountVectorizer\n",
    "import pandas as pd"
   ]
  },
  {
   "cell_type": "code",
   "execution_count": 2,
   "metadata": {},
   "outputs": [],
   "source": [
    "import seaborn as sns \n",
    "import matplotlib.pyplot as plt"
   ]
  },
  {
   "cell_type": "code",
   "execution_count": 3,
   "metadata": {},
   "outputs": [],
   "source": [
    "def preprocess(text):\n",
    "    \n",
    "    preprocessed_text = text.lower().replace('-', ' ')\n",
    "    translation_table = str.maketrans('\\n', ' ', string.punctuation+string.digits)\n",
    "    preprocessed_text = text.translate(translation_table)\n",
    "    \n",
    "    return preprocessed_text"
   ]
  },
  {
   "cell_type": "code",
   "execution_count": 4,
   "metadata": {},
   "outputs": [],
   "source": [
    "df_train = pd.read_csv('../data/qald-7-train.csv')"
   ]
  },
  {
   "cell_type": "code",
   "execution_count": 5,
   "metadata": {},
   "outputs": [],
   "source": [
    "df_train['questions'] = [preprocess(text) for text in df_train['questions'].values]"
   ]
  },
  {
   "cell_type": "code",
   "execution_count": 6,
   "metadata": {},
   "outputs": [],
   "source": [
    "vectorizer = CountVectorizer()"
   ]
  },
  {
   "cell_type": "code",
   "execution_count": 7,
   "metadata": {},
   "outputs": [],
   "source": [
    "X_train = vectorizer.fit_transform(df_train[\"questions\"])\n",
    "y_train = df_train[\"lang\"]"
   ]
  },
  {
   "cell_type": "code",
   "execution_count": 8,
   "metadata": {},
   "outputs": [
    {
     "data": {
      "text/plain": [
       "MultinomialNB(alpha=0.01, fit_prior=False)"
      ]
     },
     "execution_count": 8,
     "metadata": {},
     "output_type": "execute_result"
    }
   ],
   "source": [
    "naive_classifier = MultinomialNB(fit_prior=False,alpha=0.01)\n",
    "naive_classifier.fit(X_train, y_train)"
   ]
  },
  {
   "cell_type": "code",
   "execution_count": 9,
   "metadata": {},
   "outputs": [],
   "source": [
    "from sklearn.feature_extraction.text import TfidfTransformer\n",
    "import datetime\n",
    "\n",
    "l = [\"../data/qald-3-test.csv\",\"../data/qald-4-test.csv\",\"../data/qald-5-test.csv\",\"../data/qald-6-test.csv\",\"../data/qald-7-test.csv\",\"../data/qald-8-test.csv\"]\n",
    "\n",
    "scores = []\n",
    "times = []\n",
    "for d in l:\n",
    "    df_test = pd.read_csv(d)\n",
    "    df_test=df_test.dropna(subset=['questions'])\n",
    "    df_test=df_test[df_test[\"lang\"]=='en']\n",
    "    df_test['questions'] = [preprocess(text) for text in df_test['questions'].values]\n",
    "    X_test = vectorizer.transform(df_test[\"questions\"])\n",
    "    y_test = df_test[\"lang\"]\n",
    "\n",
    "    tfidf_transformer=TfidfTransformer(smooth_idf=True,use_idf=True)\n",
    "    X = tfidf_transformer.fit_transform(X_test)\n",
    "    # get feature names\n",
    "    feature_names=vectorizer.get_feature_names()\n",
    "\n",
    "    # fetch document for which keywords needs to be extracted\n",
    "    doc=X_test\n",
    "\n",
    "    #generate tf-idf for the given document\n",
    "    X_test=tfidf_transformer.transform(doc)\n",
    "    \n",
    "    \n",
    "    a = datetime.datetime.now()\n",
    "    predictions = naive_classifier.predict(X_test)\n",
    "    b = datetime.datetime.now()\n",
    "    c = b-a\n",
    "    \n",
    "    scores.append(accuracy_score(y_test, predictions))\n",
    "    times.append(c/df_test.shape[0])"
   ]
  },
  {
   "cell_type": "code",
   "execution_count": 10,
   "metadata": {},
   "outputs": [
    {
     "data": {
      "text/plain": [
       "[1.0, 1.0, 1.0, 1.0, 1.0, 0.975609756097561]"
      ]
     },
     "execution_count": 10,
     "metadata": {},
     "output_type": "execute_result"
    }
   ],
   "source": [
    "scores"
   ]
  },
  {
   "cell_type": "code",
   "execution_count": 11,
   "metadata": {},
   "outputs": [
    {
     "data": {
      "text/plain": [
       "[datetime.timedelta(microseconds=2),\n",
       " datetime.timedelta(microseconds=4),\n",
       " datetime.timedelta(microseconds=3),\n",
       " datetime.timedelta(microseconds=2),\n",
       " datetime.timedelta(microseconds=6),\n",
       " datetime.timedelta(microseconds=4)]"
      ]
     },
     "execution_count": 11,
     "metadata": {},
     "output_type": "execute_result"
    }
   ],
   "source": [
    "times"
   ]
  },
  {
   "cell_type": "code",
   "execution_count": 12,
   "metadata": {},
   "outputs": [],
   "source": [
    "from sklearn.feature_extraction.text import TfidfTransformer\n",
    "import datetime\n",
    "\n",
    "l = [\"../data/qald-3-test.csv\",\"../data/qald-4-test.csv\",\"../data/qald-5-test.csv\",\"../data/qald-6-test.csv\",\"../data/qald-7-test.csv\"]\n",
    "\n",
    "scores = []\n",
    "times = []\n",
    "for d in l:\n",
    "    df_test = pd.read_csv(d)\n",
    "    df_test=df_test.dropna(subset=['questions'])\n",
    "    df_test=df_test[df_test[\"lang\"]=='de']\n",
    "    df_test['questions'] = [preprocess(text) for text in df_test['questions'].values]\n",
    "    X_test = vectorizer.transform(df_test[\"questions\"])\n",
    "    y_test = df_test[\"lang\"]\n",
    "\n",
    "    tfidf_transformer=TfidfTransformer(smooth_idf=True,use_idf=True)\n",
    "    X = tfidf_transformer.fit_transform(X_test)\n",
    "    # get feature names\n",
    "    feature_names=vectorizer.get_feature_names()\n",
    "\n",
    "    # fetch document for which keywords needs to be extracted\n",
    "    doc=X_test\n",
    "\n",
    "    #generate tf-idf for the given document\n",
    "    X_test=tfidf_transformer.transform(doc)\n",
    "    \n",
    "    \n",
    "    a = datetime.datetime.now()\n",
    "    predictions = naive_classifier.predict(X_test)\n",
    "    b = datetime.datetime.now()\n",
    "    c = b-a\n",
    "    \n",
    "    scores.append(accuracy_score(y_test, predictions))\n",
    "    times.append(c/df_test.shape[0])"
   ]
  },
  {
   "cell_type": "code",
   "execution_count": 13,
   "metadata": {},
   "outputs": [
    {
     "data": {
      "text/plain": [
       "[1.0, 1.0, 1.0, 0.99, 1.0]"
      ]
     },
     "execution_count": 13,
     "metadata": {},
     "output_type": "execute_result"
    }
   ],
   "source": [
    "scores"
   ]
  },
  {
   "cell_type": "code",
   "execution_count": 14,
   "metadata": {},
   "outputs": [
    {
     "data": {
      "text/plain": [
       "[datetime.timedelta(microseconds=2),\n",
       " datetime.timedelta(microseconds=4),\n",
       " datetime.timedelta(microseconds=4),\n",
       " datetime.timedelta(microseconds=2),\n",
       " datetime.timedelta(microseconds=6)]"
      ]
     },
     "execution_count": 14,
     "metadata": {},
     "output_type": "execute_result"
    }
   ],
   "source": [
    "times"
   ]
  },
  {
   "cell_type": "code",
   "execution_count": 15,
   "metadata": {},
   "outputs": [],
   "source": [
    "from sklearn.feature_extraction.text import TfidfTransformer\n",
    "import datetime\n",
    "\n",
    "l = [\"../data/qald-3-test.csv\",\"../data/qald-4-test.csv\",\"../data/qald-5-test.csv\",\"../data/qald-6-test.csv\",\"../data/qald-7-test.csv\"]\n",
    "\n",
    "scores = []\n",
    "times = []\n",
    "for d in l:\n",
    "    df_test = pd.read_csv(d)\n",
    "    df_test=df_test.dropna(subset=['questions'])\n",
    "    df_test=df_test[df_test[\"lang\"]=='fr']\n",
    "    df_test['questions'] = [preprocess(text) for text in df_test['questions'].values]\n",
    "    X_test = vectorizer.transform(df_test[\"questions\"])\n",
    "    y_test = df_test[\"lang\"]\n",
    "\n",
    "    tfidf_transformer=TfidfTransformer(smooth_idf=True,use_idf=True)\n",
    "    X = tfidf_transformer.fit_transform(X_test)\n",
    "    # get feature names\n",
    "    feature_names=vectorizer.get_feature_names()\n",
    "\n",
    "    # fetch document for which keywords needs to be extracted\n",
    "    doc=X_test\n",
    "\n",
    "    #generate tf-idf for the given document\n",
    "    X_test=tfidf_transformer.transform(doc)\n",
    "    \n",
    "    \n",
    "    a = datetime.datetime.now()\n",
    "    predictions = naive_classifier.predict(X_test)\n",
    "    b = datetime.datetime.now()\n",
    "    c = b-a\n",
    "    \n",
    "    scores.append(accuracy_score(y_test, predictions))\n",
    "    times.append(c/df_test.shape[0])"
   ]
  },
  {
   "cell_type": "code",
   "execution_count": 16,
   "metadata": {},
   "outputs": [
    {
     "data": {
      "text/plain": [
       "[0.98989898989899, 1.0, 1.0, 0.99, 0.9767441860465116]"
      ]
     },
     "execution_count": 16,
     "metadata": {},
     "output_type": "execute_result"
    }
   ],
   "source": [
    "scores"
   ]
  },
  {
   "cell_type": "code",
   "execution_count": 17,
   "metadata": {},
   "outputs": [
    {
     "data": {
      "text/plain": [
       "[datetime.timedelta(microseconds=2),\n",
       " datetime.timedelta(microseconds=4),\n",
       " datetime.timedelta(microseconds=6),\n",
       " datetime.timedelta(microseconds=3),\n",
       " datetime.timedelta(microseconds=4)]"
      ]
     },
     "execution_count": 17,
     "metadata": {},
     "output_type": "execute_result"
    }
   ],
   "source": [
    "times"
   ]
  }
 ],
 "metadata": {
  "kernelspec": {
   "display_name": "Python 3",
   "language": "python",
   "name": "python3"
  },
  "language_info": {
   "codemirror_mode": {
    "name": "ipython",
    "version": 3
   },
   "file_extension": ".py",
   "mimetype": "text/x-python",
   "name": "python",
   "nbconvert_exporter": "python",
   "pygments_lexer": "ipython3",
   "version": "3.7.7"
  },
  "pycharm": {
   "stem_cell": {
    "cell_type": "raw",
    "metadata": {
     "collapsed": false
    },
    "source": []
   }
  }
 },
 "nbformat": 4,
 "nbformat_minor": 1
}
