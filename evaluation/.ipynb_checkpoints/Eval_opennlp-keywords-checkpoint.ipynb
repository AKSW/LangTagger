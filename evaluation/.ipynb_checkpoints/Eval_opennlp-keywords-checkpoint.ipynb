{
 "cells": [
  {
   "cell_type": "code",
   "execution_count": 1,
   "metadata": {},
   "outputs": [],
   "source": [
    "from langdetect import detect\n",
    "import pandas as pd\n",
    "from sklearn.metrics import accuracy_score\n",
    "import numpy as np\n",
    "import os"
   ]
  },
  {
   "cell_type": "code",
   "execution_count": 2,
   "metadata": {},
   "outputs": [],
   "source": [
    "df = pd.read_csv(\"../data/qald-7-test.csv\")"
   ]
  },
  {
   "cell_type": "code",
   "execution_count": 3,
   "metadata": {},
   "outputs": [],
   "source": [
    "df= df.dropna(subset=['questions'])"
   ]
  },
  {
   "cell_type": "code",
   "execution_count": 4,
   "metadata": {},
   "outputs": [
    {
     "data": {
      "text/plain": [
       "array(['en', 'de', 'it', 'fr'], dtype=object)"
      ]
     },
     "execution_count": 4,
     "metadata": {},
     "output_type": "execute_result"
    }
   ],
   "source": [
    "df[\"lang\"].unique()"
   ]
  },
  {
   "cell_type": "code",
   "execution_count": 5,
   "metadata": {},
   "outputs": [],
   "source": [
    "with open('opennlp_input.txt', 'w') as f:\n",
    "    for q in df[\"questions\"]:\n",
    "        f.write(q+\"\\n\\n\")"
   ]
  },
  {
   "cell_type": "code",
   "execution_count": 6,
   "metadata": {},
   "outputs": [
    {
     "data": {
      "text/plain": [
       "datetime.timedelta(microseconds=5133)"
      ]
     },
     "execution_count": 6,
     "metadata": {},
     "output_type": "execute_result"
    }
   ],
   "source": [
    "# Run openNLP Language Detector\n",
    "import datetime\n",
    "a = datetime.datetime.now()\n",
    "os.system(\"/home/oshara/GSoC/DBPedia/openNLP/apache-opennlp-1.9.2/bin/opennlp LanguageDetector /home/oshara/GSoC/DBPedia/openNLP/langdetect-183.bin </home/oshara/GSoC/DBPedia/QLang/evaluation/opennlp_input.txt> /home/oshara/GSoC/DBPedia/QLang/evaluation/opennlp_output.txt\")\n",
    "b = datetime.datetime.now()\n",
    "c = b-a\n",
    "c/df.shape[0]"
   ]
  },
  {
   "cell_type": "code",
   "execution_count": 7,
   "metadata": {},
   "outputs": [],
   "source": [
    "result=[]\n",
    "count = 0\n",
    "def extractLan(f):\n",
    "    global result\n",
    "    global count\n",
    "    while count < df.shape[0]:\n",
    "        line = f.readline()\n",
    "        if line == \"\\n\":\n",
    "            continue\n",
    "        result.append(line[:3])\n",
    "        count += 1\n",
    "        \n",
    "with open('opennlp_output.txt', 'r') as f:\n",
    "    extractLan(f)"
   ]
  },
  {
   "cell_type": "code",
   "execution_count": 8,
   "metadata": {},
   "outputs": [],
   "source": [
    "# English, Spanish, German, Italian, French, Dutch, Romanian\n",
    "# {'en': 0, 'de': 1, 'es': 2, 'it': 3, 'fr': 4, 'nl': 5, 'ro': 6}\n",
    "# label = {'eng': 0, \"spa\": 2, \"deu\": 1, \"ita\": 3, \"fra\": 4, \"nld\": 5, \"ron\": 6, \"other\": 7}\n",
    "label = {'eng': 0, \"deu\": 1, \"ita\": 2, \"fra\": 3,\"other\": 4}"
   ]
  },
  {
   "cell_type": "code",
   "execution_count": 9,
   "metadata": {},
   "outputs": [],
   "source": [
    "for i in range(len(result)):\n",
    "    key = result[i]\n",
    "    if key in label:\n",
    "        result[i] = label[key]\n",
    "    else:\n",
    "        result[i] = 7"
   ]
  },
  {
   "cell_type": "code",
   "execution_count": 10,
   "metadata": {},
   "outputs": [],
   "source": [
    "possible_labels = df[\"lang\"].unique()\n",
    "\n",
    "label_dict = {}\n",
    "for index, possible_label in enumerate(possible_labels):\n",
    "    label_dict[possible_label] = index\n",
    "\n",
    "df['lang'] = df.lang.replace(label_dict)"
   ]
  },
  {
   "cell_type": "code",
   "execution_count": 11,
   "metadata": {},
   "outputs": [],
   "source": [
    "y_true = df['lang']"
   ]
  },
  {
   "cell_type": "code",
   "execution_count": 12,
   "metadata": {},
   "outputs": [],
   "source": [
    "# languages\n",
    "# q3 ['en', 'de', 'es', 'it', 'fr', 'nl']\n",
    "# q4 ['en', 'de', 'es', 'it', 'fr', 'nl', 'ro']\n",
    "# q5 ['en', 'de', 'es', 'it', 'fr', 'nl', 'ro']\n",
    "# q6 ['en', 'fa', 'de', 'es', 'it', 'fr', 'nl', 'ro']\n",
    "# q7 ['en', 'de', 'it', 'fr']\n",
    "# q8 ['en']"
   ]
  },
  {
   "cell_type": "code",
   "execution_count": 13,
   "metadata": {},
   "outputs": [],
   "source": [
    "# total times spent and accuracy and rows\n",
    "# q3 0.8939393939393939 microseconds=1703\n",
    "# q4 0.8914285714285715 microseconds=2671\n",
    "# q5 0.8592814371257484 microseconds=2862\n",
    "# q6 \n",
    "# q7 0.9011627906976745\n",
    "# q8 0.9512195121951219"
   ]
  },
  {
   "cell_type": "code",
   "execution_count": 14,
   "metadata": {},
   "outputs": [
    {
     "data": {
      "text/plain": [
       "array([0, 1, 2, 3])"
      ]
     },
     "execution_count": 14,
     "metadata": {},
     "output_type": "execute_result"
    }
   ],
   "source": [
    "df[\"lang\"].unique()"
   ]
  },
  {
   "cell_type": "code",
   "execution_count": 15,
   "metadata": {},
   "outputs": [
    {
     "data": {
      "text/plain": [
       "0.9011627906976745"
      ]
     },
     "execution_count": 15,
     "metadata": {},
     "output_type": "execute_result"
    }
   ],
   "source": [
    "accuracy_score(y_true, result)"
   ]
  },
  {
   "cell_type": "code",
   "execution_count": null,
   "metadata": {},
   "outputs": [],
   "source": []
  }
 ],
 "metadata": {
  "kernelspec": {
   "display_name": "Python 3",
   "language": "python",
   "name": "python3"
  },
  "language_info": {
   "codemirror_mode": {
    "name": "ipython",
    "version": 3
   },
   "file_extension": ".py",
   "mimetype": "text/x-python",
   "name": "python",
   "nbconvert_exporter": "python",
   "pygments_lexer": "ipython3",
   "version": "3.7.7"
  }
 },
 "nbformat": 4,
 "nbformat_minor": 4
}
