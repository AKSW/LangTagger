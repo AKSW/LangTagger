{
 "cells": [
  {
   "cell_type": "code",
   "execution_count": 1,
   "metadata": {},
   "outputs": [],
   "source": [
    "import pandas as pd\n",
    "import subprocess\n",
    "from sklearn.metrics import accuracy_score\n",
    "import datetime"
   ]
  },
  {
   "cell_type": "code",
   "execution_count": 2,
   "metadata": {},
   "outputs": [],
   "source": [
    "def detect(file):\n",
    "    execute = [\"java\", \"-jar\", \"../jars/tika-app-1.24.1.jar\", \"-l\", file]\n",
    "    return subprocess.run(execute, capture_output=True).stdout.decode()[:2]"
   ]
  },
  {
   "cell_type": "code",
   "execution_count": 3,
   "metadata": {},
   "outputs": [],
   "source": [
    "l = [\"../data/qald-3-test.csv\",\"../data/qald-4-test.csv\",\"../data/qald-5-test.csv\",\"../data/qald-6-test.csv\",\"../data/qald-7-test.csv\",\"../data/qald-8-test.csv\"]"
   ]
  },
  {
   "cell_type": "code",
   "execution_count": 4,
   "metadata": {},
   "outputs": [],
   "source": [
    "scores = []\n",
    "times=[]\n",
    "for d in l:\n",
    "    df_test = pd.read_csv(d)\n",
    "    df_test=df_test.dropna(subset=['questions'])\n",
    "    total_time = datetime.datetime.now()\n",
    "    temp=total_time\n",
    "    total_time-=temp\n",
    "    out=[]\n",
    "    for text in df_test['questions']:\n",
    "        with open('../X.txt', 'w') as f:\n",
    "            f.write(text)\n",
    "        if f.closed:\n",
    "            a = datetime.datetime.now()\n",
    "            out.append(detect('../X.txt'))\n",
    "            b= datetime.datetime.now()\n",
    "        c = b-a\n",
    "        total_time+=c\n",
    "    \n",
    "    scores.append(accuracy_score(df_test['lang'],out))\n",
    "    times.append(total_time/len(df_test['lang']))\n",
    "    "
   ]
  },
  {
   "cell_type": "code",
   "execution_count": 5,
   "metadata": {},
   "outputs": [],
   "source": [
    "# df_test = pd.read_csv(\"../data/qald-3-test.csv\")"
   ]
  },
  {
   "cell_type": "code",
   "execution_count": 6,
   "metadata": {},
   "outputs": [],
   "source": [
    "# df_test=df_test.dropna(subset=['questions'])"
   ]
  },
  {
   "cell_type": "code",
   "execution_count": 7,
   "metadata": {},
   "outputs": [],
   "source": [
    "# def detect(file):\n",
    "#     execute = [\"java\", \"-jar\", \"../jars/tika-app-1.24.1.jar\", \"-l\", file]\n",
    "#     return subprocess.run(execute, capture_output=True).stdout.decode()[:2]"
   ]
  },
  {
   "cell_type": "code",
   "execution_count": 8,
   "metadata": {},
   "outputs": [],
   "source": [
    "# total_time = datetime.datetime.now()\n",
    "# temp=total_time\n",
    "# total_time-=temp\n",
    "# out=[]\n",
    "# for text in df_test['questions']:\n",
    "#     with open('../X.txt', 'w') as f:\n",
    "#         f.write(text)\n",
    "#     if f.closed:\n",
    "#         a = datetime.datetime.now()\n",
    "#         out.append(detect('../X.txt'))\n",
    "#         b= datetime.datetime.now()\n",
    "#     c = b-a\n",
    "#     total_time+=c"
   ]
  },
  {
   "cell_type": "code",
   "execution_count": 9,
   "metadata": {},
   "outputs": [],
   "source": [
    "# q3 0.8838\n",
    "# q4 "
   ]
  },
  {
   "cell_type": "code",
   "execution_count": 10,
   "metadata": {},
   "outputs": [],
   "source": [
    "# accuracy_score(df_test['lang'],out)"
   ]
  },
  {
   "cell_type": "code",
   "execution_count": 11,
   "metadata": {},
   "outputs": [],
   "source": [
    "# total_time/len(df_test['lang'])"
   ]
  },
  {
   "cell_type": "code",
   "execution_count": 12,
   "metadata": {},
   "outputs": [
    {
     "data": {
      "text/plain": [
       "[0.8838383838383839,\n",
       " 0.9028571428571428,\n",
       " 0.907185628742515,\n",
       " 0.8875,\n",
       " 0.9418604651162791,\n",
       " 0.975609756097561]"
      ]
     },
     "execution_count": 12,
     "metadata": {},
     "output_type": "execute_result"
    }
   ],
   "source": [
    "scores"
   ]
  },
  {
   "cell_type": "code",
   "execution_count": 13,
   "metadata": {},
   "outputs": [
    {
     "data": {
      "text/plain": [
       "[datetime.timedelta(seconds=1, microseconds=406954),\n",
       " datetime.timedelta(seconds=1, microseconds=400146),\n",
       " datetime.timedelta(seconds=1, microseconds=392570),\n",
       " datetime.timedelta(seconds=1, microseconds=397309),\n",
       " datetime.timedelta(seconds=1, microseconds=395940),\n",
       " datetime.timedelta(seconds=1, microseconds=377078)]"
      ]
     },
     "execution_count": 13,
     "metadata": {},
     "output_type": "execute_result"
    }
   ],
   "source": [
    "times"
   ]
  },
  {
   "cell_type": "code",
   "execution_count": null,
   "metadata": {},
   "outputs": [],
   "source": []
  },
  {
   "cell_type": "code",
   "execution_count": null,
   "metadata": {},
   "outputs": [],
   "source": []
  },
  {
   "cell_type": "code",
   "execution_count": null,
   "metadata": {},
   "outputs": [],
   "source": []
  }
 ],
 "metadata": {
  "kernelspec": {
   "display_name": "Python 3",
   "language": "python",
   "name": "python3"
  },
  "language_info": {
   "codemirror_mode": {
    "name": "ipython",
    "version": 3
   },
   "file_extension": ".py",
   "mimetype": "text/x-python",
   "name": "python",
   "nbconvert_exporter": "python",
   "pygments_lexer": "ipython3",
   "version": "3.7.7"
  }
 },
 "nbformat": 4,
 "nbformat_minor": 4
}
