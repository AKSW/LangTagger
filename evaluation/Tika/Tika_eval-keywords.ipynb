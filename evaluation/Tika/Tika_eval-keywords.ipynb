{
 "cells": [
  {
   "cell_type": "code",
   "execution_count": 1,
   "metadata": {},
   "outputs": [],
   "source": [
    "import pandas as pd\n",
    "import subprocess\n",
    "from sklearn.metrics import accuracy_score\n",
    "import time"
   ]
  },
  {
   "cell_type": "code",
   "execution_count": 2,
   "metadata": {},
   "outputs": [],
   "source": [
    "def detect(file):\n",
    "    execute = [\"java\", \"-jar\", \"../../jars/tika-app-1.24.1.jar\", \"-l\", file]\n",
    "    return subprocess.run(execute, capture_output=True).stdout.decode()[:2]"
   ]
  },
  {
   "cell_type": "code",
   "execution_count": 3,
   "metadata": {},
   "outputs": [],
   "source": [
    "l = [\"../data/qald-3-test.csv\",\"../data/qald-4-test.csv\",\"../data/qald-5-test.csv\",\"../data/qald-6-test.csv\",\"../data/qald-7-test.csv\",\"../data/qald-8-test.csv\",\"../data/qald-9-test.csv\"]"
   ]
  },
  {
   "cell_type": "code",
   "execution_count": 4,
   "metadata": {},
   "outputs": [],
   "source": [
    "scores = []\n",
    "times=[]\n",
    "for d in l:\n",
    "    df_test = pd.read_csv(\"../\"+d)\n",
    "    df_test=df_test.dropna(subset=['keywords'])\n",
    "    out=[]\n",
    "    total_time=0\n",
    "    for text in df_test['keywords']:\n",
    "        with open('X.txt', 'w') as f:\n",
    "            f.write(text)\n",
    "        if f.closed:\n",
    "            a = time.time()\n",
    "            out.append(detect('X.txt'))\n",
    "            b= time.time()\n",
    "        c = b-a\n",
    "        total_time+=c\n",
    "    \n",
    "    scores.append(accuracy_score(df_test['lang'],out))\n",
    "    times.append(total_time/len(df_test['lang']))\n",
    "    "
   ]
  },
  {
   "cell_type": "code",
   "execution_count": 5,
   "metadata": {},
   "outputs": [
    {
     "data": {
      "text/plain": [
       "[0.6144781144781145,\n",
       " 0.7085714285714285,\n",
       " 0.6687306501547987,\n",
       " 0.6320400500625782,\n",
       " 0.7209302325581395,\n",
       " 0.5609756097560976,\n",
       " 0.6124401913875598]"
      ]
     },
     "execution_count": 5,
     "metadata": {},
     "output_type": "execute_result"
    }
   ],
   "source": [
    "scores"
   ]
  },
  {
   "cell_type": "code",
   "execution_count": 6,
   "metadata": {},
   "outputs": [
    {
     "data": {
      "text/plain": [
       "[1.8983371687256527,\n",
       " 2.1343224900109425,\n",
       " 2.0306187192722,\n",
       " 2.3310109834945547,\n",
       " 1.9370703641758409,\n",
       " 1.4268357230395805,\n",
       " 1.4096681266024922]"
      ]
     },
     "execution_count": 6,
     "metadata": {},
     "output_type": "execute_result"
    }
   ],
   "source": [
    "times"
   ]
  },
  {
   "cell_type": "code",
   "execution_count": null,
   "metadata": {},
   "outputs": [],
   "source": []
  },
  {
   "cell_type": "code",
   "execution_count": null,
   "metadata": {},
   "outputs": [],
   "source": []
  },
  {
   "cell_type": "code",
   "execution_count": null,
   "metadata": {},
   "outputs": [],
   "source": []
  }
 ],
 "metadata": {
  "kernelspec": {
   "display_name": "Python 3",
   "language": "python",
   "name": "python3"
  },
  "language_info": {
   "codemirror_mode": {
    "name": "ipython",
    "version": 3
   },
   "file_extension": ".py",
   "mimetype": "text/x-python",
   "name": "python",
   "nbconvert_exporter": "python",
   "pygments_lexer": "ipython3",
   "version": "3.7.7"
  }
 },
 "nbformat": 4,
 "nbformat_minor": 4
}
