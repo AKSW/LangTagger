{
 "cells": [
  {
   "cell_type": "code",
   "execution_count": 1,
   "metadata": {},
   "outputs": [],
   "source": [
    "import pandas as pd\n",
    "import subprocess\n",
    "from sklearn.metrics import accuracy_score\n",
    "import time"
   ]
  },
  {
   "cell_type": "code",
   "execution_count": 2,
   "metadata": {},
   "outputs": [],
   "source": [
    "def detect(file):\n",
    "    execute = [\"java\", \"-jar\", \"../../jars/tika-app-1.24.1.jar\", \"-l\", file]\n",
    "    return subprocess.run(execute, capture_output=True).stdout.decode()[:2]"
   ]
  },
  {
   "cell_type": "code",
   "execution_count": 3,
   "metadata": {},
   "outputs": [],
   "source": [
    "l = [\"../data/qald-3-test.csv\",\"../data/qald-4-test.csv\",\"../data/qald-5-test.csv\",\"../data/qald-6-test.csv\",\"../data/qald-7-test.csv\",\"../data/qald-8-test.csv\",\"../data/qald-9-test.csv\"]"
   ]
  },
  {
   "cell_type": "code",
   "execution_count": 4,
   "metadata": {},
   "outputs": [],
   "source": [
    "scores = []\n",
    "times=[]\n",
    "for d in l:\n",
    "    df_test = pd.read_csv(\"../\"+d)\n",
    "    df_test=df_test.dropna(subset=['keywords'])\n",
    "    df_test = df_test[df_test[\"lang\"]==\"en\"]\n",
    "    \n",
    "    \n",
    "    total_time = 0\n",
    "    out=[]\n",
    "    for text in df_test['keywords']:\n",
    "        with open('../X.txt', 'w') as f:\n",
    "            f.write(text)\n",
    "        if f.closed:\n",
    "            a = time.time()\n",
    "            out.append(detect('../X.txt'))\n",
    "            b= time.time()\n",
    "        c = b-a\n",
    "        total_time+=c\n",
    "    \n",
    "    scores.append(accuracy_score(df_test['lang'],out))\n",
    "    times.append(total_time/len(df_test['lang']))\n",
    "    "
   ]
  },
  {
   "cell_type": "code",
   "execution_count": 5,
   "metadata": {},
   "outputs": [
    {
     "data": {
      "text/plain": [
       "[0.5151515151515151,\n",
       " 0.68,\n",
       " 0.6122448979591837,\n",
       " 0.65,\n",
       " 0.6744186046511628,\n",
       " 0.5609756097560976,\n",
       " 0.64,\n",
       " 0.64]"
      ]
     },
     "execution_count": 5,
     "metadata": {},
     "output_type": "execute_result"
    }
   ],
   "source": [
    "scores"
   ]
  },
  {
   "cell_type": "code",
   "execution_count": 6,
   "metadata": {},
   "outputs": [
    {
     "data": {
      "text/plain": [
       "[2.055531605325564,\n",
       " 2.0696395206451417,\n",
       " 2.0232488038588543,\n",
       " 2.0269172835350036,\n",
       " 2.029686778090721,\n",
       " 2.032495783596504,\n",
       " 2.049766894976298,\n",
       " 2.1397944402694704]"
      ]
     },
     "execution_count": 6,
     "metadata": {},
     "output_type": "execute_result"
    }
   ],
   "source": [
    "times"
   ]
  },
  {
   "cell_type": "code",
   "execution_count": 10,
   "metadata": {},
   "outputs": [],
   "source": [
    "l = [\"../data/qald-3-test.csv\",\"../data/qald-4-test.csv\",\"../data/qald-5-test.csv\",\"../data/qald-6-test.csv\",\"../data/qald-7-test.csv\",\"../data/qald-9-test.csv\"]"
   ]
  },
  {
   "cell_type": "code",
   "execution_count": 11,
   "metadata": {},
   "outputs": [],
   "source": [
    "scores = []\n",
    "times=[]\n",
    "for d in l:\n",
    "    df_test = pd.read_csv(\"../\"+d)\n",
    "    df_test=df_test.dropna(subset=['keywords'])\n",
    "    df_test = df_test[df_test[\"lang\"]==\"de\"]\n",
    "    \n",
    "    total_time = 0\n",
    "    out=[]\n",
    "    for text in df_test['keywords']:\n",
    "        with open('../X.txt', 'w') as f:\n",
    "            f.write(text)\n",
    "        if f.closed:\n",
    "            a = time.time()\n",
    "            out.append(detect('../X.txt'))\n",
    "            b= time.time()\n",
    "        c = b-a\n",
    "        total_time+=c\n",
    "    \n",
    "    scores.append(accuracy_score(df_test['lang'],out))\n",
    "    times.append(total_time/len(df_test['lang']))"
   ]
  },
  {
   "cell_type": "code",
   "execution_count": 12,
   "metadata": {},
   "outputs": [
    {
     "data": {
      "text/plain": [
       "[0.797979797979798,\n",
       " 0.78,\n",
       " 0.7959183673469388,\n",
       " 0.71,\n",
       " 0.6976744186046512,\n",
       " 0.8133333333333334]"
      ]
     },
     "execution_count": 12,
     "metadata": {},
     "output_type": "execute_result"
    }
   ],
   "source": [
    "scores"
   ]
  },
  {
   "cell_type": "code",
   "execution_count": 13,
   "metadata": {},
   "outputs": [
    {
     "data": {
      "text/plain": [
       "[5.161801716293952,\n",
       " 1.919265913963318,\n",
       " 1.9298848375982167,\n",
       " 1.917412281036377,\n",
       " 1.9272452731465184,\n",
       " 1.934111312230428]"
      ]
     },
     "execution_count": 13,
     "metadata": {},
     "output_type": "execute_result"
    }
   ],
   "source": [
    "times"
   ]
  },
  {
   "cell_type": "code",
   "execution_count": 14,
   "metadata": {},
   "outputs": [],
   "source": [
    "scores = []\n",
    "times=[]\n",
    "for d in l:\n",
    "    df_test = pd.read_csv(\"../\"+d)\n",
    "    df_test=df_test.dropna(subset=['keywords'])\n",
    "    df_test = df_test[df_test[\"lang\"]==\"fr\"]\n",
    "    \n",
    "    total_time =time.time()\n",
    "    out=[]\n",
    "    for text in df_test['keywords']:\n",
    "        with open('../X.txt', 'w') as f:\n",
    "            f.write(text)\n",
    "        if f.closed:\n",
    "            a = time.time()\n",
    "            out.append(detect('../X.txt'))\n",
    "            b= time.time()\n",
    "        c = b-a\n",
    "        total_time+=c\n",
    "    \n",
    "    scores.append(accuracy_score(df_test['lang'],out))\n",
    "    times.append(total_time/len(df_test['lang']))"
   ]
  },
  {
   "cell_type": "code",
   "execution_count": null,
   "metadata": {},
   "outputs": [],
   "source": [
    "scores"
   ]
  },
  {
   "cell_type": "code",
   "execution_count": null,
   "metadata": {},
   "outputs": [],
   "source": [
    "times"
   ]
  },
  {
   "cell_type": "code",
   "execution_count": null,
   "metadata": {},
   "outputs": [],
   "source": []
  },
  {
   "cell_type": "code",
   "execution_count": null,
   "metadata": {},
   "outputs": [],
   "source": []
  },
  {
   "cell_type": "code",
   "execution_count": null,
   "metadata": {},
   "outputs": [],
   "source": []
  }
 ],
 "metadata": {
  "kernelspec": {
   "display_name": "Python 3",
   "language": "python",
   "name": "python3"
  },
  "language_info": {
   "codemirror_mode": {
    "name": "ipython",
    "version": 3
   },
   "file_extension": ".py",
   "mimetype": "text/x-python",
   "name": "python",
   "nbconvert_exporter": "python",
   "pygments_lexer": "ipython3",
   "version": "3.7.7"
  }
 },
 "nbformat": 4,
 "nbformat_minor": 4
}
