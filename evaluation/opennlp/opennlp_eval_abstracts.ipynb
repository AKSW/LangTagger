{
 "cells": [
  {
   "cell_type": "code",
   "execution_count": 1,
   "metadata": {},
   "outputs": [],
   "source": [
    "from langdetect import detect\n",
    "import pandas as pd\n",
    "from sklearn.metrics import accuracy_score\n",
    "import numpy as np\n",
    "import os\n",
    "import time"
   ]
  },
  {
   "cell_type": "code",
   "execution_count": 2,
   "metadata": {},
   "outputs": [],
   "source": [
    "def extractLan(f):\n",
    "    result=[]\n",
    "    count = 0\n",
    "    while count < df_test.shape[0]:\n",
    "        line = f.readline()\n",
    "        if line == \"\\n\":\n",
    "            continue\n",
    "        result.append(line[:3])\n",
    "        count += 1\n",
    "    return result"
   ]
  },
  {
   "cell_type": "code",
   "execution_count": 3,
   "metadata": {},
   "outputs": [
    {
     "name": "stdout",
     "output_type": "stream",
     "text": [
      "eng\n",
      "deu\n",
      "rus\n",
      "ita\n",
      "spa\n",
      "fra\n"
     ]
    }
   ],
   "source": [
    "l = [\"../data/abstracts/en_abstracts.csv\",\"../data/abstracts/de_abstracts.csv\",\"../data/abstracts/ru_abstracts.csv\",\"../data/abstracts/it_abstracts.csv\",\"../data/abstracts/es_abstracts.csv\",\"../data/abstracts/fr_abstracts.csv\"]\n",
    "times=[]\n",
    "scores=[]\n",
    "\n",
    "label = {'en':'eng', 'es':\"spa\", 'de':'deu', 'it':'ita', 'fr':\"fra\", 'ru':'rus'}\n",
    "\n",
    "\n",
    "for d in l:\n",
    "    df_test = pd.read_csv(\"../\"+d)\n",
    "    df_test=df_test.dropna(subset=['abstracts'])\n",
    "    \n",
    "    with open('opennlp_input.txt', 'w') as f:\n",
    "        for q in df_test[\"abstracts\"]:\n",
    "            f.write(q+\"\\n\\n\")\n",
    "    \n",
    "    a = time.time()\n",
    "    os.system(\"/home/oshara/GSoC/DBPedia/openNLP/apache-opennlp-1.9.2/bin/opennlp LanguageDetector /home/oshara/GSoC/DBPedia/openNLP/langdetect-183.bin </home/oshara/GSoC/DBPedia/QLang/evaluation/opennlp/opennlp_input.txt> /home/oshara/GSoC/DBPedia/QLang/evaluation/opennlp/opennlp_output.txt\")\n",
    "    b = time.time()\n",
    "    c = b-a\n",
    "    \n",
    "    with open('opennlp_output.txt', 'r') as f:\n",
    "        f_prediction = extractLan(f)\n",
    "    \n",
    "    times.append(c/len(f_prediction))\n",
    "    \n",
    "    df_test['lang'] = df_test.lang.replace(label)\n",
    "    print(df_test['lang'][0])\n",
    "    \n",
    "    scores.append(accuracy_score(df_test['lang'], f_prediction))"
   ]
  },
  {
   "cell_type": "code",
   "execution_count": 4,
   "metadata": {},
   "outputs": [
    {
     "data": {
      "text/plain": [
       "[0.7910119107196477,\n",
       " 0.813,\n",
       " 0.13333333333333333,\n",
       " 0.7676535307061412,\n",
       " 0.780034010203061,\n",
       " 0.7104710471047104]"
      ]
     },
     "execution_count": 4,
     "metadata": {},
     "output_type": "execute_result"
    }
   ],
   "source": [
    "scores"
   ]
  },
  {
   "cell_type": "code",
   "execution_count": 5,
   "metadata": {},
   "outputs": [
    {
     "data": {
      "text/plain": [
       "[0.0013782115159670925,\n",
       " 0.001057523465156555,\n",
       " 0.00335203722903603,\n",
       " 0.0008192371907151206,\n",
       " 0.0011519643560914954,\n",
       " 0.0009040823458719162]"
      ]
     },
     "execution_count": 5,
     "metadata": {},
     "output_type": "execute_result"
    }
   ],
   "source": [
    "times"
   ]
  }
 ],
 "metadata": {
  "kernelspec": {
   "display_name": "Python 3",
   "language": "python",
   "name": "python3"
  },
  "language_info": {
   "codemirror_mode": {
    "name": "ipython",
    "version": 3
   },
   "file_extension": ".py",
   "mimetype": "text/x-python",
   "name": "python",
   "nbconvert_exporter": "python",
   "pygments_lexer": "ipython3",
   "version": "3.7.7"
  }
 },
 "nbformat": 4,
 "nbformat_minor": 4
}
