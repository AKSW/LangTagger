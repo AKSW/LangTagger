{
 "cells": [
  {
   "cell_type": "code",
   "execution_count": 1,
   "metadata": {},
   "outputs": [],
   "source": [
    "from langdetect import detect\n",
    "import pandas as pd\n",
    "from sklearn.metrics import accuracy_score\n",
    "import numpy as np\n",
    "import os\n",
    "import time"
   ]
  },
  {
   "cell_type": "code",
   "execution_count": 2,
   "metadata": {},
   "outputs": [],
   "source": [
    "def extractLan(f):\n",
    "    result=[]\n",
    "    count = 0\n",
    "    while count < df_test.shape[0]:\n",
    "        line = f.readline()\n",
    "        if line == \"\\n\":\n",
    "            continue\n",
    "        result.append(line[:3])\n",
    "        count += 1\n",
    "    return result"
   ]
  },
  {
   "cell_type": "code",
   "execution_count": 18,
   "metadata": {},
   "outputs": [
    {
     "name": "stdout",
     "output_type": "stream",
     "text": [
      "eng\n",
      "deu\n",
      "ita\n",
      "spa\n",
      "fra\n",
      "pt\n",
      "rus\n"
     ]
    }
   ],
   "source": [
    "l = [\"../data/en_entity_label.csv\",\"../data/de_entity_label.csv\",\"../data/it_entity_label.csv\",\"../data/es_entity_label.csv\",\"../data/fr_entity_label.csv\",\"../data/pt_entity_label.csv\",\"../data/ru_entity_label.csv\"]\n",
    "times=[]\n",
    "scores=[]\n",
    "\n",
    "label = {'en':'eng', 'es':\"spa\", 'de':'deu', 'it':'ita', 'fr':\"fra\", 'ru':'rus'}\n",
    "\n",
    "\n",
    "for d in l:\n",
    "    df_test = pd.read_csv(\"../\"+d)\n",
    "    df_test=df_test.dropna(subset=['questions'])\n",
    "    \n",
    "    with open('opennlp_input.txt', 'w') as f:\n",
    "        for q in df_test[\"questions\"]:\n",
    "            f.write(q+\"\\n\\n\")\n",
    "    \n",
    "    a = time.time()\n",
    "    os.system(\"/home/oshara/GSoC/DBPedia/openNLP/apache-opennlp-1.9.2/bin/opennlp LanguageDetector /home/oshara/GSoC/DBPedia/openNLP/langdetect-183.bin </home/oshara/GSoC/DBPedia/QLang/evaluation/opennlp/opennlp_input.txt> /home/oshara/GSoC/DBPedia/QLang/evaluation/opennlp/opennlp_output.txt\")\n",
    "    b = time.time()\n",
    "    c = b-a\n",
    "    \n",
    "    with open('opennlp_output.txt', 'r') as f:\n",
    "        f_prediction = extractLan(f)\n",
    "    \n",
    "    times.append(c/len(f_prediction))\n",
    "    \n",
    "    df_test['lang'] = df_test.lang.replace(label)\n",
    "    print(df_test['lang'][0])\n",
    "    \n",
    "    scores.append(accuracy_score(df_test['lang'], f_prediction))"
   ]
  },
  {
   "cell_type": "code",
   "execution_count": 16,
   "metadata": {},
   "outputs": [
    {
     "data": {
      "text/plain": [
       "[0.1680576197553447,\n",
       " 0.18306522010225715,\n",
       " 0.3004115226337449,\n",
       " 0.15284226377211696,\n",
       " 0.3375959079283887,\n",
       " 0.0,\n",
       " 0.12048192771084337]"
      ]
     },
     "execution_count": 16,
     "metadata": {},
     "output_type": "execute_result"
    }
   ],
   "source": [
    "scores"
   ]
  },
  {
   "cell_type": "code",
   "execution_count": 5,
   "metadata": {},
   "outputs": [
    {
     "data": {
      "text/plain": [
       "[0.0002004637968421623,\n",
       " 0.00020303980699723045,\n",
       " 0.0042720665166407455,\n",
       " 0.0002233949774465562,\n",
       " 0.001419675624583993,\n",
       " 0.004008581984935878,\n",
       " 0.010709730975599173]"
      ]
     },
     "execution_count": 5,
     "metadata": {},
     "output_type": "execute_result"
    }
   ],
   "source": [
    "times"
   ]
  }
 ],
 "metadata": {
  "kernelspec": {
   "display_name": "Python 3",
   "language": "python",
   "name": "python3"
  },
  "language_info": {
   "codemirror_mode": {
    "name": "ipython",
    "version": 3
   },
   "file_extension": ".py",
   "mimetype": "text/x-python",
   "name": "python",
   "nbconvert_exporter": "python",
   "pygments_lexer": "ipython3",
   "version": "3.7.7"
  }
 },
 "nbformat": 4,
 "nbformat_minor": 4
}
