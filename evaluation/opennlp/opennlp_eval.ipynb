{
 "cells": [
  {
   "cell_type": "code",
   "execution_count": 1,
   "metadata": {},
   "outputs": [],
   "source": [
    "from langdetect import detect\n",
    "import pandas as pd\n",
    "from sklearn.metrics import accuracy_score\n",
    "import numpy as np\n",
    "import os\n",
    "import time"
   ]
  },
  {
   "cell_type": "code",
   "execution_count": 2,
   "metadata": {},
   "outputs": [],
   "source": [
    "df = pd.read_csv(\"../../data/qald-1-test.csv\")"
   ]
  },
  {
   "cell_type": "code",
   "execution_count": 6,
   "metadata": {},
   "outputs": [],
   "source": [
    "df= df.dropna(subset=['questions'])"
   ]
  },
  {
   "cell_type": "code",
   "execution_count": 7,
   "metadata": {},
   "outputs": [],
   "source": [
    "with open('opennlp_input.txt', 'w') as f:\n",
    "    for q in df[\"questions\"]:\n",
    "        f.write(q+\"\\n\\n\")"
   ]
  },
  {
   "cell_type": "code",
   "execution_count": 8,
   "metadata": {},
   "outputs": [
    {
     "data": {
      "text/plain": [
       "0.0006802016468139356"
      ]
     },
     "execution_count": 8,
     "metadata": {},
     "output_type": "execute_result"
    }
   ],
   "source": [
    "# Run openNLP Language Detector\n",
    "import datetime\n",
    "a = time.time()\n",
    "os.system(\"/home/oshara/GSoC/DBPedia/openNLP/apache-opennlp-1.9.2/bin/opennlp LanguageDetector /home/oshara/GSoC/DBPedia/openNLP/langdetect-183.bin </home/oshara/GSoC/DBPedia/QLang/evaluation/opennlp/opennlp_input.txt> /home/oshara/GSoC/DBPedia/QLang/evaluation/opennlp/opennlp_output.txt\")\n",
    "b = time.time()\n",
    "c = b-a\n",
    "c/df.shape[0]"
   ]
  },
  {
   "cell_type": "code",
   "execution_count": 9,
   "metadata": {},
   "outputs": [],
   "source": [
    "result=[]\n",
    "count = 0\n",
    "def extractLan(f):\n",
    "    global result\n",
    "    global count\n",
    "    while count < df.shape[0]:\n",
    "        line = f.readline()\n",
    "        if line == \"\\n\":\n",
    "            continue\n",
    "        result.append(line[:3])\n",
    "        count += 1\n",
    "        \n",
    "with open('opennlp_output.txt', 'r') as f:\n",
    "    extractLan(f)"
   ]
  },
  {
   "cell_type": "code",
   "execution_count": 10,
   "metadata": {},
   "outputs": [
    {
     "data": {
      "text/plain": [
       "array(['de', 'ru', 'pt', 'en', 'hi_IN', 'fa', 'pt_BR', 'it', 'fr', 'ro',\n",
       "       'es', 'nl'], dtype=object)"
      ]
     },
     "execution_count": 10,
     "metadata": {},
     "output_type": "execute_result"
    }
   ],
   "source": [
    "df[\"lang\"].unique()"
   ]
  },
  {
   "cell_type": "code",
   "execution_count": 11,
   "metadata": {},
   "outputs": [],
   "source": [
    "# languages\n",
    "# q3 ['en', 'de', 'es', 'it', 'fr', 'nl']\n",
    "# q4 ['en', 'de', 'es', 'it', 'fr', 'nl', 'ro']\n",
    "# q5 ['en', 'de', 'es', 'it', 'fr', 'nl', 'ro']\n",
    "# q6 ['en', 'fa', 'de', 'es', 'it', 'fr', 'nl', 'ro']\n",
    "# q7 ['en', 'de', 'it', 'fr']\n",
    "# q8 ['en']"
   ]
  },
  {
   "cell_type": "code",
   "execution_count": 12,
   "metadata": {},
   "outputs": [],
   "source": [
    "# English, Spanish, German, Italian, French, Dutch, Romanian, fas\n",
    "# {'en': 0, 'de': 1, 'es': 2, 'it': 3, 'fr': 4, 'nl': 5, 'ro': 6}\n",
    "\n",
    "# q3,q4,q5\n",
    "# label = {'eng': 0, \"spa\": 2, \"deu\": 1, \"ita\": 3, \"fra\": 4, \"nld\": 5, \"ron\": 6, \"other\": 7}\n",
    "\n",
    "# q6\n",
    "# label = {'eng': 0,\"fas\":1 ,\"spa\": 3, \"deu\": 2, \"ita\": 4, \"fra\": 5, \"nld\": 6, \"ron\": 7, \"other\": 8}\n",
    "# q7,q8\n",
    "# label = {'eng': 0, \"deu\": 1, \"ita\": 2, \"fra\": 3,\"other\": 4}\n",
    "\n",
    "# q9\n",
    "label = {\"deu\":0,\"rus\":1,\"por\":2,\"eng\":3,\"hin\":4,\"fas\":5,\"por\":6,\"ita\":7,\"fra\":8,\"ron\":9,\"spa\":10,\"nld\":11,\"other\":12}"
   ]
  },
  {
   "cell_type": "code",
   "execution_count": 13,
   "metadata": {},
   "outputs": [],
   "source": [
    "for i in range(len(result)):\n",
    "    key = result[i]\n",
    "    if key in label:\n",
    "        result[i] = label[key]\n",
    "    else:\n",
    "        result[i] = -1"
   ]
  },
  {
   "cell_type": "code",
   "execution_count": 14,
   "metadata": {},
   "outputs": [],
   "source": [
    "possible_labels = df[\"lang\"].unique()\n",
    "\n",
    "label_dict = {}\n",
    "for index, possible_label in enumerate(possible_labels):\n",
    "    label_dict[possible_label] = index\n",
    "\n",
    "df['lang'] = df.lang.replace(label_dict)"
   ]
  },
  {
   "cell_type": "code",
   "execution_count": 15,
   "metadata": {},
   "outputs": [],
   "source": [
    "y_true = df['lang']"
   ]
  },
  {
   "cell_type": "code",
   "execution_count": 17,
   "metadata": {},
   "outputs": [
    {
     "data": {
      "text/plain": [
       "0.4138755980861244"
      ]
     },
     "execution_count": 17,
     "metadata": {},
     "output_type": "execute_result"
    }
   ],
   "source": [
    "accuracy_score(y_true, result)"
   ]
  }
 ],
 "metadata": {
  "kernelspec": {
   "display_name": "Python 3",
   "language": "python",
   "name": "python3"
  },
  "language_info": {
   "codemirror_mode": {
    "name": "ipython",
    "version": 3
   },
   "file_extension": ".py",
   "mimetype": "text/x-python",
   "name": "python",
   "nbconvert_exporter": "python",
   "pygments_lexer": "ipython3",
   "version": "3.7.7"
  }
 },
 "nbformat": 4,
 "nbformat_minor": 4
}
