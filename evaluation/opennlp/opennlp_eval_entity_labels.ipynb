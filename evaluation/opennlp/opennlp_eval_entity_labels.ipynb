{
 "cells": [
  {
   "cell_type": "code",
   "execution_count": 1,
   "metadata": {},
   "outputs": [],
   "source": [
    "from langdetect import detect\n",
    "import pandas as pd\n",
    "from sklearn.metrics import accuracy_score\n",
    "import numpy as np\n",
    "import os\n",
    "import time"
   ]
  },
  {
   "cell_type": "code",
   "execution_count": 2,
   "metadata": {},
   "outputs": [],
   "source": [
    "def extractLan(f):\n",
    "    result=[]\n",
    "    count = 0\n",
    "    while count < df_test.shape[0]:\n",
    "        line = f.readline()\n",
    "        if line == \"\\n\":\n",
    "            continue\n",
    "        result.append(line[:3])\n",
    "        count += 1\n",
    "    return result"
   ]
  },
  {
   "cell_type": "code",
   "execution_count": 7,
   "metadata": {},
   "outputs": [],
   "source": [
    "# l = [\"../data/en_entity_label.csv\",\"../data/de_entity_label.csv\",\"../data/it_entity_label.csv\",\"../data/es_entity_label.csv\",\"../data/fr_entity_label.csv\",\"../data/pt_entity_label.csv\",\"../data/ru_entity_label.csv\"]\n",
    "# l = [\"../data/entity_labels/it_entity_label.csv\",\"../data/entity_labels/fr_entity_label.csv\",\"../data/entity_labels/pt_entity_label.csv\",\"../data/entity_labels/ru_entity_label.csv\"]\n",
    "l=[\"../data/entity_labels/pt_entity_label.csv\"]\n",
    "\n",
    "times=[]\n",
    "scores=[]\n",
    "\n",
    "label = {'en':'eng', 'es':\"spa\", 'de':'deu', 'it':'ita', 'fr':\"fra\", 'ru':'rus','pt':'por'}\n",
    "\n",
    "\n",
    "for d in l:\n",
    "    df_test = pd.read_csv(\"../\"+d)\n",
    "    df_test=df_test.dropna(subset=['questions'])\n",
    "#     print(df_test.shape)\n",
    "    with open('opennlp_input.txt', 'w') as f:\n",
    "        for q in df_test[\"questions\"]:\n",
    "            f.write(q+\"\\n\\n\")\n",
    "    \n",
    "    a = time.time()\n",
    "    os.system(\"/home/oshara/GSoC/DBPedia/openNLP/apache-opennlp-1.9.2/bin/opennlp LanguageDetector /home/oshara/GSoC/DBPedia/openNLP/langdetect-183.bin </home/oshara/GSoC/DBPedia/LangTagger//evaluation/opennlp/opennlp_input.txt> /home/oshara/GSoC/DBPedia/LangTagger/evaluation/opennlp/opennlp_output.txt\")\n",
    "    b = time.time()\n",
    "    c = b-a\n",
    "    \n",
    "    with open('opennlp_output.txt', 'r') as f:\n",
    "        f_prediction = extractLan(f)\n",
    "    \n",
    "    times.append(c/len(f_prediction))\n",
    "    \n",
    "    df_test['lang'] = df_test.lang.replace(label)\n",
    "    \n",
    "    scores.append(accuracy_score(df_test['lang'], f_prediction))"
   ]
  },
  {
   "cell_type": "code",
   "execution_count": 8,
   "metadata": {},
   "outputs": [
    {
     "data": {
      "text/plain": [
       "[0.22983870967741934]"
      ]
     },
     "execution_count": 8,
     "metadata": {},
     "output_type": "execute_result"
    }
   ],
   "source": [
    "scores"
   ]
  },
  {
   "cell_type": "code",
   "execution_count": 5,
   "metadata": {},
   "outputs": [
    {
     "data": {
      "text/plain": [
       "[0.003663164026596967,\n",
       " 0.0011353704302791035,\n",
       " 0.0036277665245917534,\n",
       " 0.009582167321985418]"
      ]
     },
     "execution_count": 5,
     "metadata": {},
     "output_type": "execute_result"
    }
   ],
   "source": [
    "times"
   ]
  }
 ],
 "metadata": {
  "kernelspec": {
   "display_name": "Python 2",
   "language": "python",
   "name": "python2"
  },
  "language_info": {
   "codemirror_mode": {
    "name": "ipython",
    "version": 2
   },
   "file_extension": ".py",
   "mimetype": "text/x-python",
   "name": "python",
   "nbconvert_exporter": "python",
   "pygments_lexer": "ipython2",
   "version": "2.7.16"
  }
 },
 "nbformat": 4,
 "nbformat_minor": 4
}
