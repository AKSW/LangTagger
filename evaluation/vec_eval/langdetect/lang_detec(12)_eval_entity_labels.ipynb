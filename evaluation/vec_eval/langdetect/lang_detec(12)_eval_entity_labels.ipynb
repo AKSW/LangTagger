{
 "cells": [
  {
   "cell_type": "code",
   "execution_count": 1,
   "metadata": {},
   "outputs": [],
   "source": [
    "from langdetect import detect_langs\n",
    "import pandas as pd\n",
    "from sklearn.metrics import accuracy_score\n",
    "import numpy as np\n",
    "import datetime\n",
    "import time"
   ]
  },
  {
   "cell_type": "code",
   "execution_count": 2,
   "metadata": {},
   "outputs": [],
   "source": [
    "def detect(text):\n",
    "    listVec = detect_langs(text)\n",
    "    lang_list = ['de', 'ru', 'pt', 'en', 'hi_IN', 'fa', 'pt_BR', 'it', 'fr', 'ro','es', 'nl']\n",
    "    \n",
    "    vecDict = {}\n",
    "    mx = 0\n",
    "    out = 0\n",
    "    \n",
    "    for obj in listVec:\n",
    "        obj = str(obj)\n",
    "        if obj[:2] in lang_list:\n",
    "            val = float(obj[3:])\n",
    "            if val>mx:\n",
    "                out = obj[:2]\n",
    "    return out"
   ]
  },
  {
   "cell_type": "code",
   "execution_count": 3,
   "metadata": {},
   "outputs": [],
   "source": [
    "l = [\"../data/entity_labels/en_entity_label.csv\",\"../data/entity_labels/de_entity_label.csv\",\"../data/entity_labels/it_entity_label.csv\",\"../data/entity_labels/es_entity_label.csv\",\"../data/entity_labels/fr_entity_label.csv\",\"../data/entity_labels/pt_entity_label.csv\",\"../data/entity_labels/ru_entity_label.csv\"]\n",
    "# l = [\"../data/entity_labels/it_entity_label.csv\",\"../data/entity_labels/fr_entity_label.csv\",\"../data/entity_labels/pt_entity_label.csv\",\"../data/entity_labels/ru_entity_label.csv\"]\n",
    "\n",
    "times=[]\n",
    "scores=[]\n",
    "for d in l:\n",
    "    df_test = pd.read_csv(\"../../\"+d)\n",
    "    df_test=df_test.dropna(subset=['questions'])\n",
    "    f_prediction = []\n",
    "    a = time.time()\n",
    "    for sentence in df_test['questions']:\n",
    "        f_prediction.append(detect(sentence))\n",
    "    b = time.time()\n",
    "    c = b-a\n",
    "    times.append(c/len(f_prediction))\n",
    "    scores.append(accuracy_score(df_test['lang'], f_prediction))"
   ]
  },
  {
   "cell_type": "code",
   "execution_count": 4,
   "metadata": {},
   "outputs": [
    {
     "data": {
      "text/plain": [
       "[0.35795129758774435,\n",
       " 0.512283327098142,\n",
       " 0.6745098039215687,\n",
       " 0.3240055213954072,\n",
       " 0.59613196814562,\n",
       " 0.43951612903225806,\n",
       " 0.5909090909090909]"
      ]
     },
     "execution_count": 4,
     "metadata": {},
     "output_type": "execute_result"
    }
   ],
   "source": [
    "scores"
   ]
  },
  {
   "cell_type": "code",
   "execution_count": 5,
   "metadata": {},
   "outputs": [
    {
     "data": {
      "text/plain": [
       "[0.009326724034657516,\n",
       " 0.010053778812614428,\n",
       " 0.010990553276211608,\n",
       " 0.014750274066300355,\n",
       " 0.008846166597698329,\n",
       " 0.012492370220922654,\n",
       " 0.009985853325236927]"
      ]
     },
     "execution_count": 5,
     "metadata": {},
     "output_type": "execute_result"
    }
   ],
   "source": [
    "times"
   ]
  },
  {
   "cell_type": "code",
   "execution_count": null,
   "metadata": {},
   "outputs": [],
   "source": []
  }
 ],
 "metadata": {
  "kernelspec": {
   "display_name": "Python 3",
   "language": "python",
   "name": "python3"
  },
  "language_info": {
   "codemirror_mode": {
    "name": "ipython",
    "version": 3
   },
   "file_extension": ".py",
   "mimetype": "text/x-python",
   "name": "python",
   "nbconvert_exporter": "python",
   "pygments_lexer": "ipython3",
   "version": "3.7.7"
  }
 },
 "nbformat": 4,
 "nbformat_minor": 4
}
