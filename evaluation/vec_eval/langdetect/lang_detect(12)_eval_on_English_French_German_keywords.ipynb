{
 "cells": [
  {
   "cell_type": "code",
   "execution_count": 1,
   "metadata": {},
   "outputs": [],
   "source": [
    "from langdetect import detect_langs\n",
    "import pandas as pd\n",
    "from sklearn.metrics import accuracy_score\n",
    "import numpy as np\n",
    "import time"
   ]
  },
  {
   "cell_type": "code",
   "execution_count": 2,
   "metadata": {},
   "outputs": [],
   "source": [
    "def detect(text):\n",
    "    listVec = detect_langs(text)\n",
    "    lang_list = ['de', 'ru', 'pt', 'en', 'hi_IN', 'fa', 'pt_BR', 'it', 'fr', 'ro','es', 'nl']\n",
    "    \n",
    "    vecDict = {}\n",
    "    mx = 0\n",
    "    out = 0\n",
    "    \n",
    "    for obj in listVec:\n",
    "        obj = str(obj)\n",
    "        if obj[:2] in lang_list:\n",
    "            val = float(obj[3:])\n",
    "            if val>mx:\n",
    "                out = obj[:2]\n",
    "    return out"
   ]
  },
  {
   "cell_type": "code",
   "execution_count": 3,
   "metadata": {},
   "outputs": [
    {
     "name": "stderr",
     "output_type": "stream",
     "text": [
      "/home/oshara/Programs/anaconda2/envs/jupy/lib/python3.7/site-packages/numpy/lib/function_base.py:393: RuntimeWarning: Mean of empty slice.\n",
      "  avg = a.mean(axis)\n",
      "/home/oshara/Programs/anaconda2/envs/jupy/lib/python3.7/site-packages/numpy/core/_methods.py:161: RuntimeWarning: invalid value encountered in double_scalars\n",
      "  ret = ret.dtype.type(ret / rcount)\n"
     ]
    }
   ],
   "source": [
    "l = [\"../data/qald-1-test.csv\",\"../data/qald-2-test.csv\",\"../data/qald-3-test.csv\",\"../data/qald-4-test.csv\",\"../data/qald-5-test.csv\",\"../data/qald-6-test.csv\",\"../data/qald-7-test.csv\",\"../data/qald-8-test.csv\",\"../data/qald-9-test.csv\"]\n",
    "times=[]\n",
    "scores=[]\n",
    "\n",
    "for d in l:\n",
    "    df_test = pd.read_csv(\"../../\"+d)\n",
    "    df_test=df_test[df_test[\"lang\"]=='en']\n",
    "    df_test=df_test.dropna(subset=['keywords'])\n",
    "    X_test = df_test[\"keywords\"]\n",
    "    y_test = df_test[\"lang\"]\n",
    "    \n",
    "    f_prediction=[]\n",
    "    a = time.time()\n",
    "    for q in X_test:\n",
    "        f_prediction.append(detect(q))\n",
    "    b = time.time()\n",
    "    c = b-a\n",
    "    if len(f_prediction)!=0:\n",
    "        times.append(c/len(f_prediction))\n",
    "    scores.append(accuracy_score(y_test, f_prediction))\n"
   ]
  },
  {
   "cell_type": "code",
   "execution_count": 4,
   "metadata": {},
   "outputs": [
    {
     "data": {
      "text/plain": [
       "[nan,\n",
       " 0.5918367346938775,\n",
       " 0.5555555555555556,\n",
       " 0.72,\n",
       " 0.6938775510204082,\n",
       " 0.72,\n",
       " 0.7441860465116279,\n",
       " 0.5609756097560976,\n",
       " 0.6666666666666666]"
      ]
     },
     "execution_count": 4,
     "metadata": {},
     "output_type": "execute_result"
    }
   ],
   "source": [
    "scores"
   ]
  },
  {
   "cell_type": "code",
   "execution_count": 5,
   "metadata": {},
   "outputs": [],
   "source": [
    "times=[]\n",
    "scores=[]\n",
    "\n",
    "for d in l:\n",
    "    df_test = pd.read_csv(\"../../\"+d)\n",
    "    df_test=df_test[df_test[\"lang\"]=='de']\n",
    "    df_test=df_test.dropna(subset=['keywords'])\n",
    "    X_test = df_test[\"keywords\"]\n",
    "    y_test = df_test[\"lang\"]\n",
    "    \n",
    "    f_prediction=[]\n",
    "    a = time.time()\n",
    "    for q in X_test:\n",
    "        f_prediction.append(detect(q))\n",
    "    b = time.time()\n",
    "    c = b-a\n",
    "    if len(f_prediction)!=0:\n",
    "        times.append(c/len(f_prediction))\n",
    "    scores.append(accuracy_score(y_test, f_prediction))"
   ]
  },
  {
   "cell_type": "code",
   "execution_count": 6,
   "metadata": {},
   "outputs": [
    {
     "data": {
      "text/plain": [
       "[nan,\n",
       " nan,\n",
       " 0.8080808080808081,\n",
       " 0.78,\n",
       " 0.8367346938775511,\n",
       " 0.75,\n",
       " 0.7674418604651163,\n",
       " nan,\n",
       " 0.8133333333333334]"
      ]
     },
     "execution_count": 6,
     "metadata": {},
     "output_type": "execute_result"
    }
   ],
   "source": [
    "scores"
   ]
  },
  {
   "cell_type": "code",
   "execution_count": 7,
   "metadata": {},
   "outputs": [],
   "source": [
    "times=[]\n",
    "scores=[]\n",
    "\n",
    "for d in l:\n",
    "    df_test = pd.read_csv(\"../../\"+d)\n",
    "    df_test=df_test[df_test[\"lang\"]=='fr']\n",
    "    df_test=df_test.dropna(subset=['keywords'])\n",
    "    X_test = df_test[\"keywords\"]\n",
    "    y_test = df_test[\"lang\"]\n",
    "    \n",
    "    f_prediction=[]\n",
    "    a = time.time()\n",
    "    for q in X_test:\n",
    "        f_prediction.append(detect(q))\n",
    "    b = time.time()\n",
    "    c = b-a\n",
    "    if len(f_prediction)!=0:\n",
    "        times.append(c/len(f_prediction))\n",
    "    scores.append(accuracy_score(y_test, f_prediction))"
   ]
  },
  {
   "cell_type": "code",
   "execution_count": 8,
   "metadata": {},
   "outputs": [
    {
     "data": {
      "text/plain": [
       "[nan,\n",
       " nan,\n",
       " 0.7373737373737373,\n",
       " 0.76,\n",
       " 0.6896551724137931,\n",
       " 0.66,\n",
       " 0.8372093023255814,\n",
       " nan,\n",
       " 0.76]"
      ]
     },
     "execution_count": 8,
     "metadata": {},
     "output_type": "execute_result"
    }
   ],
   "source": [
    "scores"
   ]
  }
 ],
 "metadata": {
  "kernelspec": {
   "display_name": "Python 3",
   "language": "python",
   "name": "python3"
  },
  "language_info": {
   "codemirror_mode": {
    "name": "ipython",
    "version": 3
   },
   "file_extension": ".py",
   "mimetype": "text/x-python",
   "name": "python",
   "nbconvert_exporter": "python",
   "pygments_lexer": "ipython3",
   "version": "3.7.7"
  }
 },
 "nbformat": 4,
 "nbformat_minor": 4
}
