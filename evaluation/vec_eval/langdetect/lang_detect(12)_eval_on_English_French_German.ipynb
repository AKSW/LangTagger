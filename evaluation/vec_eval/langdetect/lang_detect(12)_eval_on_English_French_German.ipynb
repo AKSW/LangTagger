{
 "cells": [
  {
   "cell_type": "code",
   "execution_count": 1,
   "metadata": {},
   "outputs": [],
   "source": [
    "from langdetect import detect_langs\n",
    "import pandas as pd\n",
    "from sklearn.metrics import accuracy_score\n",
    "import numpy as np\n",
    "import time"
   ]
  },
  {
   "cell_type": "code",
   "execution_count": 2,
   "metadata": {},
   "outputs": [],
   "source": [
    "def detect(text):\n",
    "    listVec = detect_langs(text)\n",
    "    lang_list = ['de', 'ru', 'pt', 'en', 'hi_IN', 'fa', 'pt_BR', 'it', 'fr', 'ro','es', 'nl']\n",
    "    \n",
    "    vecDict = {}\n",
    "    mx = 0\n",
    "    out = 0\n",
    "    \n",
    "    for obj in listVec:\n",
    "        obj = str(obj)\n",
    "        if obj[:2] in lang_list:\n",
    "            val = float(obj[3:])\n",
    "            if val>mx:\n",
    "                out = obj[:2]\n",
    "    return out"
   ]
  },
  {
   "cell_type": "code",
   "execution_count": 9,
   "metadata": {},
   "outputs": [],
   "source": [
    "l = [\"../data/qald-1-test.csv\",\"../data/qald-2-test.csv\",\"../data/qald-3-test.csv\",\"../data/qald-4-test.csv\",\"../data/qald-5-test.csv\",\"../data/qald-6-test.csv\",\"../data/qald-7-test.csv\",\"../data/qald-8-test.csv\",\"../data/qald-9-test.csv\"]\n",
    "times=[]\n",
    "scores=[]\n",
    "\n",
    "for d in l:\n",
    "    df_test = pd.read_csv(\"../../\"+d)\n",
    "    df_test=df_test[df_test[\"lang\"]=='en']\n",
    "    df_test=df_test.dropna(subset=['questions'])\n",
    "    X_test = df_test[\"questions\"]\n",
    "    y_test = df_test[\"lang\"]\n",
    "    \n",
    "    f_prediction=[]\n",
    "    a = time.time()\n",
    "    for q in X_test:\n",
    "        f_prediction.append(detect(q))\n",
    "    b = time.time()\n",
    "    c = b-a\n",
    "    if len(f_prediction)!=0:\n",
    "        times.append(c/len(f_prediction))\n",
    "    scores.append(accuracy_score(y_test, f_prediction))\n"
   ]
  },
  {
   "cell_type": "code",
   "execution_count": 10,
   "metadata": {},
   "outputs": [
    {
     "data": {
      "text/plain": [
       "[0.98,\n",
       " 0.9393939393939394,\n",
       " 0.9393939393939394,\n",
       " 0.9,\n",
       " 0.9830508474576272,\n",
       " 0.96,\n",
       " 0.8837209302325582,\n",
       " 1.0,\n",
       " 0.9333333333333333]"
      ]
     },
     "execution_count": 10,
     "metadata": {},
     "output_type": "execute_result"
    }
   ],
   "source": [
    "scores"
   ]
  },
  {
   "cell_type": "code",
   "execution_count": 5,
   "metadata": {},
   "outputs": [
    {
     "name": "stderr",
     "output_type": "stream",
     "text": [
      "/home/oshara/Programs/anaconda2/envs/jupy/lib/python3.7/site-packages/numpy/lib/function_base.py:393: RuntimeWarning: Mean of empty slice.\n",
      "  avg = a.mean(axis)\n",
      "/home/oshara/Programs/anaconda2/envs/jupy/lib/python3.7/site-packages/numpy/core/_methods.py:161: RuntimeWarning: invalid value encountered in double_scalars\n",
      "  ret = ret.dtype.type(ret / rcount)\n"
     ]
    }
   ],
   "source": [
    "times=[]\n",
    "scores=[]\n",
    "\n",
    "for d in l:\n",
    "    df_test = pd.read_csv(\"../../\"+d)\n",
    "    df_test=df_test[df_test[\"lang\"]=='de']\n",
    "    df_test=df_test.dropna(subset=['questions'])\n",
    "    X_test = df_test[\"questions\"]\n",
    "    y_test = df_test[\"lang\"]\n",
    "    \n",
    "    f_prediction=[]\n",
    "    a = time.time()\n",
    "    for q in X_test:\n",
    "        f_prediction.append(detect(q))\n",
    "    b = time.time()\n",
    "    c = b-a\n",
    "    if len(f_prediction)!=0:\n",
    "        times.append(c/len(f_prediction))\n",
    "    scores.append(accuracy_score(y_test, f_prediction))"
   ]
  },
  {
   "cell_type": "code",
   "execution_count": 6,
   "metadata": {},
   "outputs": [
    {
     "data": {
      "text/plain": [
       "[0.9595959595959596,\n",
       " 0.9,\n",
       " 0.9387755102040817,\n",
       " 0.85,\n",
       " 0.9069767441860465,\n",
       " nan,\n",
       " 0.9466666666666667]"
      ]
     },
     "execution_count": 6,
     "metadata": {},
     "output_type": "execute_result"
    }
   ],
   "source": [
    "scores"
   ]
  },
  {
   "cell_type": "code",
   "execution_count": 7,
   "metadata": {},
   "outputs": [],
   "source": [
    "times=[]\n",
    "scores=[]\n",
    "\n",
    "for d in l:\n",
    "    df_test = pd.read_csv(\"../../\"+d)\n",
    "    df_test=df_test[df_test[\"lang\"]=='fr']\n",
    "    df_test=df_test.dropna(subset=['questions'])\n",
    "    X_test = df_test[\"questions\"]\n",
    "    y_test = df_test[\"lang\"]\n",
    "    \n",
    "    f_prediction=[]\n",
    "    a = time.time()\n",
    "    for q in X_test:\n",
    "        f_prediction.append(detect(q))\n",
    "    b = time.time()\n",
    "    c = b-a\n",
    "    if len(f_prediction)!=0:\n",
    "        times.append(c/len(f_prediction))\n",
    "    scores.append(accuracy_score(y_test, f_prediction))"
   ]
  },
  {
   "cell_type": "code",
   "execution_count": 8,
   "metadata": {},
   "outputs": [
    {
     "data": {
      "text/plain": [
       "[0.8888888888888888,\n",
       " 0.98,\n",
       " 0.9333333333333333,\n",
       " 0.91,\n",
       " 0.9534883720930233,\n",
       " nan,\n",
       " 0.92]"
      ]
     },
     "execution_count": 8,
     "metadata": {},
     "output_type": "execute_result"
    }
   ],
   "source": [
    "scores"
   ]
  }
 ],
 "metadata": {
  "kernelspec": {
   "display_name": "Python 3",
   "language": "python",
   "name": "python3"
  },
  "language_info": {
   "codemirror_mode": {
    "name": "ipython",
    "version": 3
   },
   "file_extension": ".py",
   "mimetype": "text/x-python",
   "name": "python",
   "nbconvert_exporter": "python",
   "pygments_lexer": "ipython3",
   "version": "3.7.7"
  }
 },
 "nbformat": 4,
 "nbformat_minor": 4
}
