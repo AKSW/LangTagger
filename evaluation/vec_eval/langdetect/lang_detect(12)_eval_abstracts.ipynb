{
 "cells": [
  {
   "cell_type": "code",
   "execution_count": 1,
   "metadata": {},
   "outputs": [],
   "source": [
    "from langdetect import detect\n",
    "import pandas as pd\n",
    "from sklearn.metrics import accuracy_score\n",
    "import numpy as np\n",
    "import time"
   ]
  },
  {
   "cell_type": "code",
   "execution_count": 2,
   "metadata": {},
   "outputs": [],
   "source": [
    "l = [\"../data/abstracts/en_abstracts.csv\",\"../data/abstracts/de_abstracts.csv\",\"../data/abstracts/ru_abstracts.csv\",\"../data/abstracts/it_abstracts.csv\",\"../data/abstracts/es_abstracts.csv\",\"../data/abstracts/fr_abstracts.csv\"]\n",
    "\n",
    "times=[]\n",
    "scores=[]\n",
    "for d in l:\n",
    "    df_test = pd.read_csv(\"../../\"+d)\n",
    "    df_test=df_test.dropna(subset=['abstracts'])\n",
    "    f_prediction = []\n",
    "    a = time.time()\n",
    "    for sentence in df_test['abstracts']:\n",
    "        f_prediction.append(detect(sentence))\n",
    "    b = time.time()\n",
    "    c = b-a\n",
    "    times.append(c/len(f_prediction))\n",
    "    scores.append(accuracy_score(df_test['lang'], f_prediction))"
   ]
  },
  {
   "cell_type": "code",
   "execution_count": 3,
   "metadata": {},
   "outputs": [
    {
     "data": {
      "text/plain": [
       "[0.9578620758682814,\n",
       " 0.9947,\n",
       " 0.9578947368421052,\n",
       " 0.9967993598719744,\n",
       " 0.9972991897569271,\n",
       " 0.9965996599659966]"
      ]
     },
     "execution_count": 3,
     "metadata": {},
     "output_type": "execute_result"
    }
   ],
   "source": [
    "scores"
   ]
  },
  {
   "cell_type": "code",
   "execution_count": 4,
   "metadata": {},
   "outputs": [
    {
     "data": {
      "text/plain": [
       "[0.007031006111944536,\n",
       " 0.005946143913269043,\n",
       " 0.004956854435435512,\n",
       " 0.004781297789404072,\n",
       " 0.0060091298425675775,\n",
       " 0.004231974749293777]"
      ]
     },
     "execution_count": 4,
     "metadata": {},
     "output_type": "execute_result"
    }
   ],
   "source": [
    "times"
   ]
  },
  {
   "cell_type": "code",
   "execution_count": null,
   "metadata": {},
   "outputs": [],
   "source": []
  }
 ],
 "metadata": {
  "kernelspec": {
   "display_name": "Python 3",
   "language": "python",
   "name": "python3"
  },
  "language_info": {
   "codemirror_mode": {
    "name": "ipython",
    "version": 3
   },
   "file_extension": ".py",
   "mimetype": "text/x-python",
   "name": "python",
   "nbconvert_exporter": "python",
   "pygments_lexer": "ipython3",
   "version": "3.7.7"
  }
 },
 "nbformat": 4,
 "nbformat_minor": 4
}
