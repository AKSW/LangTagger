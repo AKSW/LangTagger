{
 "cells": [
  {
   "cell_type": "code",
   "execution_count": 1,
   "metadata": {},
   "outputs": [],
   "source": [
    "import numpy as np\n",
    "import string\n",
    "from sklearn.metrics import accuracy_score,confusion_matrix\n",
    "from sklearn.naive_bayes import MultinomialNB\n",
    "from sklearn.feature_extraction.text import CountVectorizer\n",
    "import pandas as pd\n",
    "import datetime"
   ]
  },
  {
   "cell_type": "code",
   "execution_count": 2,
   "metadata": {},
   "outputs": [],
   "source": [
    "import seaborn as sns \n",
    "import matplotlib.pyplot as plt"
   ]
  },
  {
   "cell_type": "code",
   "execution_count": 3,
   "metadata": {},
   "outputs": [],
   "source": [
    "def preprocess(text):\n",
    "    \n",
    "    preprocessed_text = text.lower().replace('-', ' ')\n",
    "    translation_table = str.maketrans('\\n', ' ', string.punctuation+string.digits)\n",
    "    preprocessed_text = text.translate(translation_table)\n",
    "    \n",
    "    return preprocessed_text"
   ]
  },
  {
   "cell_type": "code",
   "execution_count": 4,
   "metadata": {},
   "outputs": [],
   "source": [
    "# df_train[\"lang\"].unique()"
   ]
  },
  {
   "cell_type": "code",
   "execution_count": 5,
   "metadata": {},
   "outputs": [],
   "source": [
    "df_3 = pd.read_csv('../../data/qald-3-train.csv')\n",
    "df_4 = pd.read_csv('../../data/qald-4-train.csv')\n",
    "df_5 = pd.read_csv('../../data/qald-5-train.csv')\n",
    "df_6 = pd.read_csv('../../data/qald-6-train.csv')\n",
    "df_7 = pd.read_csv('../../data/qald-7-train.csv')\n",
    "df_8 = pd.read_csv('../../data/qald-8-train.csv')\n",
    "df_9 = pd.read_csv('../../data/qald-9-train.csv')"
   ]
  },
  {
   "cell_type": "code",
   "execution_count": 6,
   "metadata": {},
   "outputs": [],
   "source": [
    "frames = [df_3,df_4,df_5,df_6,df_7,df_8,df_9 ]\n",
    "\n",
    "df_train = pd.concat(frames)\n",
    "df_train=df_train.dropna(subset=['questions'])"
   ]
  },
  {
   "cell_type": "code",
   "execution_count": 7,
   "metadata": {},
   "outputs": [],
   "source": [
    "vectorizer = CountVectorizer()"
   ]
  },
  {
   "cell_type": "code",
   "execution_count": 8,
   "metadata": {},
   "outputs": [],
   "source": [
    "df_train['questions'] = [preprocess(text) for text in df_train['questions'].values]"
   ]
  },
  {
   "cell_type": "code",
   "execution_count": 9,
   "metadata": {},
   "outputs": [],
   "source": [
    "X_train = vectorizer.fit_transform(df_train[\"questions\"])\n",
    "y_train = df_train[\"lang\"]"
   ]
  },
  {
   "cell_type": "code",
   "execution_count": 10,
   "metadata": {},
   "outputs": [
    {
     "data": {
      "text/plain": [
       "MultinomialNB(alpha=0.01, fit_prior=False)"
      ]
     },
     "execution_count": 10,
     "metadata": {},
     "output_type": "execute_result"
    }
   ],
   "source": [
    "naive_classifier = MultinomialNB(fit_prior=False,alpha=0.01)\n",
    "naive_classifier.fit(X_train, y_train)"
   ]
  },
  {
   "cell_type": "code",
   "execution_count": 11,
   "metadata": {},
   "outputs": [],
   "source": [
    "l = [\"../data/qald-3-test.csv\",\"../data/qald-4-test.csv\",\"../data/qald-5-test.csv\",\"../data/qald-6-test.csv\",\"../data/qald-7-test.csv\",\"../data/qald-8-test.csv\",\"../data/qald-9-test.csv\"]\n",
    "\n",
    "scores = []\n",
    "times = []\n",
    "\n",
    "for d in l:\n",
    "    df_test = pd.read_csv(\"../\"+d)\n",
    "    df_test=df_test.dropna(subset=['keywords'])\n",
    "    df_test=df_test[df_test[\"lang\"]=='en']\n",
    "    df_test['keywords'] = [preprocess(text) for text in df_test['keywords'].values]\n",
    "    \n",
    "    X_test = vectorizer.transform(df_test[\"keywords\"])\n",
    "    y_test = df_test[\"lang\"]\n",
    "    \n",
    "    predictions = naive_classifier.predict(X_test)\n",
    "    \n",
    "    scores.append(accuracy_score(y_test, predictions))"
   ]
  },
  {
   "cell_type": "code",
   "execution_count": 12,
   "metadata": {},
   "outputs": [
    {
     "data": {
      "text/plain": [
       "[0.8787878787878788,\n",
       " 0.98,\n",
       " 0.9387755102040817,\n",
       " 0.83,\n",
       " 0.9302325581395349,\n",
       " 0.7073170731707317,\n",
       " 0.8733333333333333]"
      ]
     },
     "execution_count": 12,
     "metadata": {},
     "output_type": "execute_result"
    }
   ],
   "source": [
    "scores"
   ]
  },
  {
   "cell_type": "code",
   "execution_count": 13,
   "metadata": {},
   "outputs": [],
   "source": [
    "l = [\"../data/qald-3-test.csv\",\"../data/qald-4-test.csv\",\"../data/qald-5-test.csv\",\"../data/qald-6-test.csv\",\"../data/qald-7-test.csv\",\"../data/qald-9-test.csv\"]\n",
    "\n",
    "scores = []\n",
    "times = []\n",
    "\n",
    "for d in l:\n",
    "    df_test = pd.read_csv(\"../\"+d)\n",
    "    df_test=df_test.dropna(subset=['keywords'])\n",
    "    df_test=df_test[df_test[\"lang\"]=='de']\n",
    "    df_test['keywords'] = [preprocess(text) for text in df_test['keywords'].values]\n",
    "    \n",
    "    X_test = vectorizer.transform(df_test[\"keywords\"])\n",
    "    y_test = df_test[\"lang\"]\n",
    "    \n",
    "    predictions = naive_classifier.predict(X_test)\n",
    "    \n",
    "    scores.append(accuracy_score(y_test, predictions))"
   ]
  },
  {
   "cell_type": "code",
   "execution_count": 14,
   "metadata": {},
   "outputs": [
    {
     "data": {
      "text/plain": [
       "[0.8080808080808081,\n",
       " 0.84,\n",
       " 0.8979591836734694,\n",
       " 0.83,\n",
       " 0.9767441860465116,\n",
       " 0.8533333333333334]"
      ]
     },
     "execution_count": 14,
     "metadata": {},
     "output_type": "execute_result"
    }
   ],
   "source": [
    "scores"
   ]
  },
  {
   "cell_type": "code",
   "execution_count": 15,
   "metadata": {},
   "outputs": [],
   "source": [
    "l = [\"../data/qald-3-test.csv\",\"../data/qald-4-test.csv\",\"../data/qald-5-test.csv\",\"../data/qald-6-test.csv\",\"../data/qald-7-test.csv\",\"../data/qald-9-test.csv\"]\n",
    "\n",
    "scores = []\n",
    "times = []\n",
    "\n",
    "for d in l:\n",
    "    df_test = pd.read_csv(\"../\"+d)\n",
    "    df_test=df_test.dropna(subset=['keywords'])\n",
    "    df_test=df_test[df_test[\"lang\"]=='fr']\n",
    "    df_test['keywords'] = [preprocess(text) for text in df_test['keywords'].values]\n",
    "    \n",
    "    X_test = vectorizer.transform(df_test[\"keywords\"])\n",
    "    y_test = df_test[\"lang\"]\n",
    "\n",
    "    predictions = naive_classifier.predict(X_test)\n",
    "    \n",
    "    scores.append(accuracy_score(y_test, predictions))"
   ]
  },
  {
   "cell_type": "code",
   "execution_count": 16,
   "metadata": {},
   "outputs": [
    {
     "data": {
      "text/plain": [
       "[0.8888888888888888,\n",
       " 0.84,\n",
       " 0.9310344827586207,\n",
       " 0.78,\n",
       " 0.9069767441860465,\n",
       " 0.8533333333333334]"
      ]
     },
     "execution_count": 16,
     "metadata": {},
     "output_type": "execute_result"
    }
   ],
   "source": [
    "scores"
   ]
  }
 ],
 "metadata": {
  "kernelspec": {
   "display_name": "Python 3",
   "language": "python",
   "name": "python3"
  },
  "language_info": {
   "codemirror_mode": {
    "name": "ipython",
    "version": 3
   },
   "file_extension": ".py",
   "mimetype": "text/x-python",
   "name": "python",
   "nbconvert_exporter": "python",
   "pygments_lexer": "ipython3",
   "version": "3.7.7"
  },
  "pycharm": {
   "stem_cell": {
    "cell_type": "raw",
    "metadata": {
     "collapsed": false
    },
    "source": []
   }
  }
 },
 "nbformat": 4,
 "nbformat_minor": 1
}
