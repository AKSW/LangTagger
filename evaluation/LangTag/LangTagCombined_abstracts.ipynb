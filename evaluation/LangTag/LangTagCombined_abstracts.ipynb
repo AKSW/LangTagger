{
 "cells": [
  {
   "cell_type": "code",
   "execution_count": 1,
   "metadata": {},
   "outputs": [],
   "source": [
    "import numpy as np\n",
    "import string\n",
    "from sklearn.metrics import accuracy_score,confusion_matrix\n",
    "from sklearn.naive_bayes import MultinomialNB\n",
    "from sklearn.feature_extraction.text import CountVectorizer\n",
    "import pandas as pd\n",
    "import time"
   ]
  },
  {
   "cell_type": "code",
   "execution_count": 2,
   "metadata": {},
   "outputs": [],
   "source": [
    "st = time.time()"
   ]
  },
  {
   "cell_type": "code",
   "execution_count": 3,
   "metadata": {},
   "outputs": [],
   "source": [
    "def preprocess(text):\n",
    "    \n",
    "    preprocessed_text = text.lower().replace('-', ' ')\n",
    "    translation_table = str.maketrans('\\n', ' ', string.punctuation+string.digits)\n",
    "    preprocessed_text = text.translate(translation_table)\n",
    "    \n",
    "    return preprocessed_text"
   ]
  },
  {
   "cell_type": "code",
   "execution_count": 4,
   "metadata": {},
   "outputs": [],
   "source": [
    "# df_train[\"lang\"].unique()"
   ]
  },
  {
   "cell_type": "code",
   "execution_count": 5,
   "metadata": {},
   "outputs": [],
   "source": [
    "df_3 = pd.read_csv('../../data/qald-3-train.csv')\n",
    "df_4 = pd.read_csv('../../data/qald-4-train.csv')\n",
    "df_5 = pd.read_csv('../../data/qald-5-train.csv')\n",
    "df_6 = pd.read_csv('../../data/qald-6-train.csv')\n",
    "df_7 = pd.read_csv('../../data/qald-7-train.csv')\n",
    "df_8 = pd.read_csv('../../data/qald-8-train.csv')\n",
    "df_9 = pd.read_csv('../../data/qald-9-train.csv')"
   ]
  },
  {
   "cell_type": "code",
   "execution_count": 6,
   "metadata": {},
   "outputs": [],
   "source": [
    "a = df_9[df_9.lang==\"ru\"].head()"
   ]
  },
  {
   "cell_type": "code",
   "execution_count": 7,
   "metadata": {},
   "outputs": [],
   "source": [
    "a['questions'] = [preprocess(text) for text in a['questions'].values]"
   ]
  },
  {
   "cell_type": "code",
   "execution_count": 8,
   "metadata": {},
   "outputs": [
    {
     "data": {
      "text/html": [
       "<div>\n",
       "<style scoped>\n",
       "    .dataframe tbody tr th:only-of-type {\n",
       "        vertical-align: middle;\n",
       "    }\n",
       "\n",
       "    .dataframe tbody tr th {\n",
       "        vertical-align: top;\n",
       "    }\n",
       "\n",
       "    .dataframe thead th {\n",
       "        text-align: right;\n",
       "    }\n",
       "</style>\n",
       "<table border=\"1\" class=\"dataframe\">\n",
       "  <thead>\n",
       "    <tr style=\"text-align: right;\">\n",
       "      <th></th>\n",
       "      <th>questions</th>\n",
       "      <th>keywords</th>\n",
       "      <th>lang</th>\n",
       "    </tr>\n",
       "  </thead>\n",
       "  <tbody>\n",
       "    <tr>\n",
       "      <th>1</th>\n",
       "      <td>Список все настольные игры от ВРЕМЯ ПО ГРИНВИЧУ</td>\n",
       "      <td>настольная игра ,  время по Гринвичу</td>\n",
       "      <td>ru</td>\n",
       "    </tr>\n",
       "    <tr>\n",
       "      <th>12</th>\n",
       "      <td>Кто развитая Skype</td>\n",
       "      <td>развивать ,  Skype</td>\n",
       "      <td>ru</td>\n",
       "    </tr>\n",
       "    <tr>\n",
       "      <th>23</th>\n",
       "      <td>Который люди мы Родился в Ираклион</td>\n",
       "      <td>люди ,  Родился ,  ираклион</td>\n",
       "      <td>ru</td>\n",
       "    </tr>\n",
       "    <tr>\n",
       "      <th>34</th>\n",
       "      <td>В который УС государство является Площадь  рас...</td>\n",
       "      <td>Площадь 51 ,  располагается ,  У.С. государство</td>\n",
       "      <td>ru</td>\n",
       "    </tr>\n",
       "    <tr>\n",
       "      <th>45</th>\n",
       "      <td>Кто является  мэр из новый Йорк Город</td>\n",
       "      <td>новый Йорк город ,  мэр</td>\n",
       "      <td>ru</td>\n",
       "    </tr>\n",
       "  </tbody>\n",
       "</table>\n",
       "</div>"
      ],
      "text/plain": [
       "                                            questions  \\\n",
       "1    Список все настольные игры от ВРЕМЯ ПО ГРИНВИЧУ    \n",
       "12                                Кто развитая Skype    \n",
       "23                Который люди мы Родился в Ираклион    \n",
       "34  В который УС государство является Площадь  рас...   \n",
       "45             Кто является  мэр из новый Йорк Город    \n",
       "\n",
       "                                            keywords lang  \n",
       "1              настольная игра ,  время по Гринвичу    ru  \n",
       "12                               развивать ,  Skype    ru  \n",
       "23                      люди ,  Родился ,  ираклион    ru  \n",
       "34  Площадь 51 ,  располагается ,  У.С. государство    ru  \n",
       "45                          новый Йорк город ,  мэр    ru  "
      ]
     },
     "execution_count": 8,
     "metadata": {},
     "output_type": "execute_result"
    }
   ],
   "source": [
    "a.head()"
   ]
  },
  {
   "cell_type": "code",
   "execution_count": 9,
   "metadata": {},
   "outputs": [
    {
     "data": {
      "text/plain": [
       "dtype('O')"
      ]
     },
     "execution_count": 9,
     "metadata": {},
     "output_type": "execute_result"
    }
   ],
   "source": [
    "a.questions.dtype"
   ]
  },
  {
   "cell_type": "code",
   "execution_count": 10,
   "metadata": {},
   "outputs": [],
   "source": [
    "frames = [df_3,df_4,df_5,df_6,df_7,df_8,df_9 ]\n",
    "\n",
    "df_train = pd.concat(frames)\n",
    "df_train=df_train.dropna(subset=['questions'])"
   ]
  },
  {
   "cell_type": "code",
   "execution_count": 11,
   "metadata": {},
   "outputs": [
    {
     "data": {
      "text/plain": [
       "array(['en', 'de', 'es', 'it', 'fr', 'nl', 'ro', 'fa', 'pt_BR', 'hi_IN',\n",
       "       'ru', 'pt'], dtype=object)"
      ]
     },
     "execution_count": 11,
     "metadata": {},
     "output_type": "execute_result"
    }
   ],
   "source": [
    "df_train[\"lang\"].unique()"
   ]
  },
  {
   "cell_type": "code",
   "execution_count": 12,
   "metadata": {},
   "outputs": [],
   "source": [
    "vectorizer = CountVectorizer()"
   ]
  },
  {
   "cell_type": "code",
   "execution_count": 13,
   "metadata": {},
   "outputs": [],
   "source": [
    "df_train['questions'] = [preprocess(text) for text in df_train['questions'].values]"
   ]
  },
  {
   "cell_type": "code",
   "execution_count": 14,
   "metadata": {},
   "outputs": [],
   "source": [
    "X_train = vectorizer.fit_transform(df_train[\"questions\"])\n",
    "y_train = df_train[\"lang\"]"
   ]
  },
  {
   "cell_type": "code",
   "execution_count": 15,
   "metadata": {},
   "outputs": [
    {
     "data": {
      "text/plain": [
       "MultinomialNB(alpha=0.01, fit_prior=False)"
      ]
     },
     "execution_count": 15,
     "metadata": {},
     "output_type": "execute_result"
    }
   ],
   "source": [
    "naive_classifier = MultinomialNB(fit_prior=False,alpha=0.01)\n",
    "naive_classifier.fit(X_train, y_train)"
   ]
  },
  {
   "cell_type": "code",
   "execution_count": 16,
   "metadata": {},
   "outputs": [],
   "source": [
    "end = time.time()"
   ]
  },
  {
   "cell_type": "code",
   "execution_count": 17,
   "metadata": {},
   "outputs": [],
   "source": [
    "t = end-st"
   ]
  },
  {
   "cell_type": "code",
   "execution_count": 18,
   "metadata": {},
   "outputs": [],
   "source": [
    "l = [\"../data/abstracts/en_abstracts.csv\",\"../data/abstracts/de_abstracts.csv\",\"../data/abstracts/ru_abstracts.csv\",\"../data/abstracts/it_abstracts.csv\",\"../data/abstracts/es_abstracts.csv\",\"../data/abstracts/fr_abstracts.csv\"]\n",
    "\n",
    "scores = []\n",
    "times = []\n",
    "\n",
    "for d in l:\n",
    "    df_test = pd.read_csv(\"../\"+d)\n",
    "    df_test=df_test.dropna(subset=['abstracts'])\n",
    "    df_test['abstracts'] = [preprocess(text) for text in df_test['abstracts'].values]\n",
    "    \n",
    "    X_test = vectorizer.transform(df_test[\"abstracts\"])\n",
    "    y_test = df_test[\"lang\"]\n",
    "    \n",
    "    a = time.time()\n",
    "    predictions = naive_classifier.predict(X_test)\n",
    "    b = time.time()\n",
    "    c = b-a\n",
    "    \n",
    "    times.append(c/df_test.shape[0])\n",
    "    \n",
    "    scores.append(accuracy_score(y_test, predictions))"
   ]
  },
  {
   "cell_type": "code",
   "execution_count": 19,
   "metadata": {},
   "outputs": [
    {
     "data": {
      "text/plain": [
       "[0.9691722550295265,\n",
       " 0.9992,\n",
       " 0.8666666666666667,\n",
       " 0.9972994598919784,\n",
       " 0.9970991297389217,\n",
       " 0.9961996199619962]"
      ]
     },
     "execution_count": 19,
     "metadata": {},
     "output_type": "execute_result"
    }
   ],
   "source": [
    "scores"
   ]
  },
  {
   "cell_type": "code",
   "execution_count": 20,
   "metadata": {},
   "outputs": [
    {
     "data": {
      "text/plain": [
       "[4.620180272230359e-07,\n",
       " 2.7256011962890625e-07,\n",
       " 1.141062954015899e-06,\n",
       " 2.5649432254614985e-07,\n",
       " 3.257775123064263e-07,\n",
       " 2.685100129275623e-07]"
      ]
     },
     "execution_count": 20,
     "metadata": {},
     "output_type": "execute_result"
    }
   ],
   "source": [
    "times"
   ]
  },
  {
   "cell_type": "code",
   "execution_count": 21,
   "metadata": {},
   "outputs": [],
   "source": [
    "df = pd.read_csv(\"../../data/qald-9-test.csv\")"
   ]
  },
  {
   "cell_type": "code",
   "execution_count": 22,
   "metadata": {},
   "outputs": [
    {
     "data": {
      "text/plain": [
       "array(['de', 'ru', 'pt', 'en', 'hi_IN', 'fa', 'pt_BR', 'it', 'fr', 'ro',\n",
       "       'es', 'nl'], dtype=object)"
      ]
     },
     "execution_count": 22,
     "metadata": {},
     "output_type": "execute_result"
    }
   ],
   "source": [
    "df.lang.unique()"
   ]
  },
  {
   "cell_type": "code",
   "execution_count": 23,
   "metadata": {},
   "outputs": [],
   "source": [
    "a = time.time()\n",
    "df_test = pd.read_csv(\"../../data/pt_entity_label.csv\")\n",
    "# \n",
    "df_test=df_test.dropna(subset=['questions'])\n",
    "df_test['questions'] = [preprocess(text) for text in df_test['questions'].values]\n",
    "\n",
    "X_test = vectorizer.transform(df_test[\"questions\"])\n",
    "y_test = [\"pt\"]*df_test.shape[0]\n",
    "\n",
    "#     a = datetime.datetime.now()\n",
    "\n",
    "predictions = naive_classifier.predict(X_test)\n",
    "#     b = datetime.datetime.now()\n",
    "b = time.time()\n",
    "c = b-a+t\n",
    "\n",
    "#     print(df_test.shape)\n",
    "\n",
    "times.append(c/df_test.shape[0])\n",
    "\n",
    "scores.append(accuracy_score(y_test, predictions))"
   ]
  },
  {
   "cell_type": "code",
   "execution_count": 24,
   "metadata": {},
   "outputs": [
    {
     "data": {
      "text/plain": [
       "[4.620180272230359e-07,\n",
       " 2.7256011962890625e-07,\n",
       " 1.141062954015899e-06,\n",
       " 2.5649432254614985e-07,\n",
       " 3.257775123064263e-07,\n",
       " 2.685100129275623e-07,\n",
       " 0.002600069088032592]"
      ]
     },
     "execution_count": 24,
     "metadata": {},
     "output_type": "execute_result"
    }
   ],
   "source": [
    "times"
   ]
  },
  {
   "cell_type": "code",
   "execution_count": 25,
   "metadata": {},
   "outputs": [
    {
     "data": {
      "text/plain": [
       "[0.9691722550295265,\n",
       " 0.9992,\n",
       " 0.8666666666666667,\n",
       " 0.9972994598919784,\n",
       " 0.9970991297389217,\n",
       " 0.9961996199619962,\n",
       " 0.18061674008810572]"
      ]
     },
     "execution_count": 25,
     "metadata": {},
     "output_type": "execute_result"
    }
   ],
   "source": [
    "scores"
   ]
  },
  {
   "cell_type": "code",
   "execution_count": 26,
   "metadata": {},
   "outputs": [
    {
     "data": {
      "text/plain": [
       "1.176816360050102"
      ]
     },
     "execution_count": 26,
     "metadata": {},
     "output_type": "execute_result"
    }
   ],
   "source": [
    "scores[-1]+scores[-2]"
   ]
  },
  {
   "cell_type": "code",
   "execution_count": 27,
   "metadata": {},
   "outputs": [],
   "source": [
    "df_test = pd.read_csv(\"../../data/ru_entity_label.csv\")\n",
    "df_test=df_test.dropna(subset=['questions'])\n",
    "df_test['questions'] = [preprocess(text) for text in df_test['questions'].values]\n",
    "\n",
    "# df_test['questions'] = [text.encode(\"utf-8\") for text in df_test['questions'].values]\n",
    "\n",
    "X_test = vectorizer.transform(df_test[\"questions\"])\n",
    "y_test = df_test[\"lang\"]\n",
    "\n",
    "a = time.time()\n",
    "predictions = naive_classifier.predict(X_test)\n",
    "b = time.time()\n",
    "c = b-a + t\n",
    "\n",
    "times.append(c/df_test.shape[0])\n",
    "\n",
    "scores.append(accuracy_score(y_test, predictions))"
   ]
  },
  {
   "cell_type": "code",
   "execution_count": 28,
   "metadata": {},
   "outputs": [
    {
     "data": {
      "text/plain": [
       "[4.620180272230359e-07,\n",
       " 2.7256011962890625e-07,\n",
       " 1.141062954015899e-06,\n",
       " 2.5649432254614985e-07,\n",
       " 3.257775123064263e-07,\n",
       " 2.685100129275623e-07,\n",
       " 0.002600069088032592,\n",
       " 0.006995445274444948]"
      ]
     },
     "execution_count": 28,
     "metadata": {},
     "output_type": "execute_result"
    }
   ],
   "source": [
    "times"
   ]
  },
  {
   "cell_type": "code",
   "execution_count": 29,
   "metadata": {},
   "outputs": [
    {
     "data": {
      "text/plain": [
       "[0.9691722550295265,\n",
       " 0.9992,\n",
       " 0.8666666666666667,\n",
       " 0.9972994598919784,\n",
       " 0.9970991297389217,\n",
       " 0.9961996199619962,\n",
       " 0.18061674008810572,\n",
       " 0.12048192771084337]"
      ]
     },
     "execution_count": 29,
     "metadata": {},
     "output_type": "execute_result"
    }
   ],
   "source": [
    "scores"
   ]
  }
 ],
 "metadata": {
  "kernelspec": {
   "display_name": "Python 3",
   "language": "python",
   "name": "python3"
  },
  "language_info": {
   "codemirror_mode": {
    "name": "ipython",
    "version": 3
   },
   "file_extension": ".py",
   "mimetype": "text/x-python",
   "name": "python",
   "nbconvert_exporter": "python",
   "pygments_lexer": "ipython3",
   "version": "3.7.7"
  },
  "pycharm": {
   "stem_cell": {
    "cell_type": "raw",
    "metadata": {
     "collapsed": false
    },
    "source": []
   }
  }
 },
 "nbformat": 4,
 "nbformat_minor": 1
}
