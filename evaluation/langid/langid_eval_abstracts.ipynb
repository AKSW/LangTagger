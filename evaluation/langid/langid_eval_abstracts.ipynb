{
 "cells": [
  {
   "cell_type": "code",
   "execution_count": 1,
   "metadata": {},
   "outputs": [],
   "source": [
    "import langid\n",
    "import pandas as pd\n",
    "from sklearn.metrics import accuracy_score\n",
    "import numpy as np\n",
    "import time"
   ]
  },
  {
   "cell_type": "code",
   "execution_count": 3,
   "metadata": {},
   "outputs": [
    {
     "name": "stderr",
     "output_type": "stream",
     "text": [
      "/home/oshara/anaconda3/envs/jupy27/lib/python2.7/site-packages/langid/langid.py:177: RuntimeWarning: overflow encountered in exp\n",
      "  pd = (1/np.exp(pd[None,:] - pd[:,None]).sum(1))\n",
      "/home/oshara/anaconda3/envs/jupy27/lib/python2.7/site-packages/numpy/core/_methods.py:36: RuntimeWarning: overflow encountered in reduce\n",
      "  return umr_sum(a, axis, dtype, out, keepdims, initial)\n"
     ]
    }
   ],
   "source": [
    "l = [\"../data/abstracts/en_abstracts.csv\",\"../data/abstracts/de_abstracts.csv\",\"../data/abstracts/ru_abstracts.csv\",\"../data/abstracts/it_abstracts.csv\",\"../data/abstracts/es_abstracts.csv\",\"../data/abstracts/fr_abstracts.csv\"]\n",
    "\n",
    "times=[]\n",
    "scores=[]\n",
    "for d in l:\n",
    "    df_test = pd.read_csv(\"../\"+d)\n",
    "    df_test=df_test.dropna(subset=['abstracts'])\n",
    "    f_prediction = []\n",
    "    a = time.time()\n",
    "    for sentence in df_test['abstracts']:\n",
    "        f_prediction.append(langid.classify(sentence)[0])\n",
    "    b = time.time()\n",
    "    c = b-a\n",
    "    times.append(c/len(f_prediction))\n",
    "    scores.append(accuracy_score(df_test['lang'], f_prediction))"
   ]
  },
  {
   "cell_type": "code",
   "execution_count": 4,
   "metadata": {},
   "outputs": [
    {
     "data": {
      "text/plain": [
       "[0.9666700030027024,\n",
       " 0.9765,\n",
       " 0.9473684210526315,\n",
       " 0.9923984796959392,\n",
       " 0.9865959787936381,\n",
       " 0.9922992299229924]"
      ]
     },
     "execution_count": 4,
     "metadata": {},
     "output_type": "execute_result"
    }
   ],
   "source": [
    "scores"
   ]
  },
  {
   "cell_type": "code",
   "execution_count": 5,
   "metadata": {},
   "outputs": [
    {
     "data": {
      "text/plain": [
       "[0.003374510371712471,\n",
       " 0.0037093581914901734,\n",
       " 0.001794400131493284,\n",
       " 0.0034125152171242353,\n",
       " 0.004716352401905874,\n",
       " 0.003555471556867906]"
      ]
     },
     "execution_count": 5,
     "metadata": {},
     "output_type": "execute_result"
    }
   ],
   "source": [
    "times"
   ]
  },
  {
   "cell_type": "code",
   "execution_count": null,
   "metadata": {},
   "outputs": [],
   "source": []
  }
 ],
 "metadata": {
  "kernelspec": {
   "display_name": "Python 2",
   "language": "python",
   "name": "python2"
  },
  "language_info": {
   "codemirror_mode": {
    "name": "ipython",
    "version": 2
   },
   "file_extension": ".py",
   "mimetype": "text/x-python",
   "name": "python",
   "nbconvert_exporter": "python",
   "pygments_lexer": "ipython2",
   "version": "2.7.18"
  }
 },
 "nbformat": 4,
 "nbformat_minor": 4
}
