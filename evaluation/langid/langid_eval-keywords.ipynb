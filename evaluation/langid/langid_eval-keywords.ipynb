{
 "cells": [
  {
   "cell_type": "code",
   "execution_count": 1,
   "metadata": {},
   "outputs": [],
   "source": [
    "import langid\n",
    "import pandas as pd\n",
    "from sklearn.metrics import accuracy_score\n",
    "from sklearn.feature_extraction.text import CountVectorizer\n",
    "from sklearn.feature_extraction.text import TfidfTransformer\n",
    "import time"
   ]
  },
  {
   "cell_type": "code",
   "execution_count": 2,
   "metadata": {},
   "outputs": [
    {
     "name": "stderr",
     "output_type": "stream",
     "text": [
      "/home/oshara/anaconda3/envs/jupy27/lib/python2.7/site-packages/langid/langid.py:177: RuntimeWarning: overflow encountered in exp\n",
      "  pd = (1/np.exp(pd[None,:] - pd[:,None]).sum(1))\n"
     ]
    }
   ],
   "source": [
    "l = [\"../data/qald-3-test.csv\",\"../data/qald-4-test.csv\",\"../data/qald-5-test.csv\",\"../data/qald-6-test.csv\",\"../data/qald-7-test.csv\",\"../data/qald-8-test.csv\",\"../data/qald-9-test.csv\"]\n",
    "times=[]\n",
    "scores=[]\n",
    "\n",
    "for d in l:\n",
    "    df_test = pd.read_csv(\"../\"+d)\n",
    "    df_test=df_test.dropna(subset=['keywords'])\n",
    "    X_test = df_test[\"keywords\"]\n",
    "    y_test = df_test[\"lang\"]\n",
    "    \n",
    "    f_prediction=[]\n",
    "    a = time.time()\n",
    "    for q in X_test:\n",
    "        f_prediction.append(langid.classify(q)[0])\n",
    "    b = time.time()\n",
    "    c = b-a\n",
    "    times.append(c/len(f_prediction))\n",
    "    scores.append(accuracy_score(y_test, f_prediction))\n"
   ]
  },
  {
   "cell_type": "code",
   "execution_count": 3,
   "metadata": {},
   "outputs": [
    {
     "data": {
      "text/plain": [
       "[0.6212121212121212,\n",
       " 0.7285714285714285,\n",
       " 0.6439628482972136,\n",
       " 0.6846057571964956,\n",
       " 0.6453488372093024,\n",
       " 0.6585365853658537,\n",
       " 0.6423444976076556]"
      ]
     },
     "execution_count": 3,
     "metadata": {},
     "output_type": "execute_result"
    }
   ],
   "source": [
    "scores"
   ]
  },
  {
   "cell_type": "code",
   "execution_count": 4,
   "metadata": {},
   "outputs": [
    {
     "data": {
      "text/plain": [
       "[0.00247716020654749,\n",
       " 0.0006636966977800642,\n",
       " 0.00066022607195119,\n",
       " 0.0007556371008499394,\n",
       " 0.0010841447253559912,\n",
       " 0.0007159535477801067,\n",
       " 0.0008898133581334895]"
      ]
     },
     "execution_count": 4,
     "metadata": {},
     "output_type": "execute_result"
    }
   ],
   "source": [
    "times"
   ]
  }
 ],
 "metadata": {
  "kernelspec": {
   "display_name": "Python 2",
   "language": "python",
   "name": "python2"
  },
  "language_info": {
   "codemirror_mode": {
    "name": "ipython",
    "version": 2
   },
   "file_extension": ".py",
   "mimetype": "text/x-python",
   "name": "python",
   "nbconvert_exporter": "python",
   "pygments_lexer": "ipython2",
   "version": "2.7.18"
  },
  "pycharm": {
   "stem_cell": {
    "cell_type": "raw",
    "metadata": {
     "collapsed": false
    },
    "source": []
   }
  }
 },
 "nbformat": 4,
 "nbformat_minor": 4
}
