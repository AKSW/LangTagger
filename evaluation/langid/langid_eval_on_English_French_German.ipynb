{
 "cells": [
  {
   "cell_type": "code",
   "execution_count": 1,
   "metadata": {},
   "outputs": [],
   "source": [
    "import langid\n",
    "import pandas as pd\n",
    "from sklearn.metrics import accuracy_score\n",
    "import numpy as np\n",
    "import time"
   ]
  },
  {
   "cell_type": "code",
   "execution_count": 2,
   "metadata": {},
   "outputs": [],
   "source": [
    "l = [\"../data/qald-3-test.csv\",\"../data/qald-4-test.csv\",\"../data/qald-5-test.csv\",\"../data/qald-6-test.csv\",\"../data/qald-7-test.csv\",\"../data/qald-8-test.csv\",\"../data/qald-9-test.csv\"]\n",
    "times=[]\n",
    "scores=[]\n",
    "\n",
    "for d in l:\n",
    "    df_test = pd.read_csv(\"../\"+d)\n",
    "    df_test=df_test[df_test[\"lang\"]=='en']\n",
    "    df_test=df_test.dropna(subset=['questions'])\n",
    "    X_test = df_test[\"questions\"]\n",
    "    y_test = df_test[\"lang\"]\n",
    "    \n",
    "    f_prediction=[]\n",
    "    a = time.time()\n",
    "    for q in X_test:\n",
    "        f_prediction.append(langid.classify(q)[0])\n",
    "    b = time.time()\n",
    "    c = b-a\n",
    "    times.append(c/len(f_prediction))\n",
    "    scores.append(accuracy_score(y_test, f_prediction))\n"
   ]
  },
  {
   "cell_type": "code",
   "execution_count": 3,
   "metadata": {},
   "outputs": [
    {
     "data": {
      "text/plain": [
       "[0.9494949494949495,\n",
       " 0.96,\n",
       " 0.9661016949152542,\n",
       " 0.94,\n",
       " 0.9534883720930233,\n",
       " 1.0,\n",
       " 0.9466666666666667]"
      ]
     },
     "execution_count": 3,
     "metadata": {},
     "output_type": "execute_result"
    }
   ],
   "source": [
    "scores"
   ]
  },
  {
   "cell_type": "code",
   "execution_count": 4,
   "metadata": {},
   "outputs": [],
   "source": [
    "l = [\"../data/qald-3-test.csv\",\"../data/qald-4-test.csv\",\"../data/qald-5-test.csv\",\"../data/qald-6-test.csv\",\"../data/qald-7-test.csv\",\"../data/qald-9-test.csv\"]\n",
    "times=[]\n",
    "scores=[]\n",
    "\n",
    "for d in l:\n",
    "    df_test = pd.read_csv(\"../\"+d)\n",
    "    df_test=df_test[df_test[\"lang\"]=='de']\n",
    "    df_test=df_test.dropna(subset=['questions'])\n",
    "    X_test = df_test[\"questions\"]\n",
    "    y_test = df_test[\"lang\"]\n",
    "    \n",
    "    f_prediction=[]\n",
    "    a = time.time()\n",
    "    for q in X_test:\n",
    "        f_prediction.append(langid.classify(q)[0])\n",
    "    b = time.time()\n",
    "    c = b-a\n",
    "    times.append(c/len(f_prediction))\n",
    "    scores.append(accuracy_score(y_test, f_prediction))"
   ]
  },
  {
   "cell_type": "code",
   "execution_count": 5,
   "metadata": {},
   "outputs": [
    {
     "data": {
      "text/plain": [
       "[0.9393939393939394,\n",
       " 0.94,\n",
       " 0.9591836734693877,\n",
       " 0.92,\n",
       " 0.9069767441860465,\n",
       " 0.9466666666666667]"
      ]
     },
     "execution_count": 5,
     "metadata": {},
     "output_type": "execute_result"
    }
   ],
   "source": [
    "scores"
   ]
  },
  {
   "cell_type": "code",
   "execution_count": 6,
   "metadata": {},
   "outputs": [],
   "source": [
    "l = [\"../data/qald-3-test.csv\",\"../data/qald-4-test.csv\",\"../data/qald-5-test.csv\",\"../data/qald-6-test.csv\",\"../data/qald-7-test.csv\",\"../data/qald-9-test.csv\"]\n",
    "times=[]\n",
    "scores=[]\n",
    "\n",
    "for d in l:\n",
    "    df_test = pd.read_csv(\"../\"+d)\n",
    "    df_test=df_test[df_test[\"lang\"]=='fr']\n",
    "    df_test=df_test.dropna(subset=['questions'])\n",
    "    X_test = df_test[\"questions\"]\n",
    "    y_test = df_test[\"lang\"]\n",
    "    \n",
    "    f_prediction=[]\n",
    "    a = time.time()\n",
    "    for q in X_test:\n",
    "        f_prediction.append(langid.classify(q)[0])\n",
    "    b = time.time()\n",
    "    c = b-a\n",
    "    times.append(c/len(f_prediction))\n",
    "    scores.append(accuracy_score(y_test, f_prediction))"
   ]
  },
  {
   "cell_type": "code",
   "execution_count": 7,
   "metadata": {},
   "outputs": [
    {
     "data": {
      "text/plain": [
       "[0.9696969696969697, 0.96, 1.0, 0.94, 0.9767441860465116, 0.9266666666666666]"
      ]
     },
     "execution_count": 7,
     "metadata": {},
     "output_type": "execute_result"
    }
   ],
   "source": [
    "scores"
   ]
  }
 ],
 "metadata": {
  "kernelspec": {
   "display_name": "Python 2",
   "language": "python",
   "name": "python2"
  },
  "language_info": {
   "codemirror_mode": {
    "name": "ipython",
    "version": 2
   },
   "file_extension": ".py",
   "mimetype": "text/x-python",
   "name": "python",
   "nbconvert_exporter": "python",
   "pygments_lexer": "ipython2",
   "version": "2.7.18"
  }
 },
 "nbformat": 4,
 "nbformat_minor": 4
}
