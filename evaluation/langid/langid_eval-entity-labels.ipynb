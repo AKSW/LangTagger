{
 "cells": [
  {
   "cell_type": "code",
   "execution_count": 1,
   "metadata": {},
   "outputs": [],
   "source": [
    "import langid\n",
    "import pandas as pd\n",
    "from sklearn.metrics import accuracy_score\n",
    "import numpy as np\n",
    "import datetime\n",
    "import time"
   ]
  },
  {
   "cell_type": "code",
   "execution_count": 5,
   "metadata": {},
   "outputs": [
    {
     "name": "stderr",
     "output_type": "stream",
     "text": [
      "/home/oshara/anaconda3/envs/jupy27/lib/python2.7/site-packages/langid/langid.py:177: RuntimeWarning: overflow encountered in exp\n",
      "  pd = (1/np.exp(pd[None,:] - pd[:,None]).sum(1))\n"
     ]
    }
   ],
   "source": [
    "l = [\"en_entity_label.csv\",\"de_entity_label.csv\",\"it_entity_label.csv\",\"es_entity_label.csv\",\"fr_entity_label.csv\",\"pt_entity_label.csv\",\"ru_entity_label.csv\"]\n",
    "# /home/oshara/Documents/QLang/data\n",
    "times=[]\n",
    "scores=[]\n",
    "for d in l:\n",
    "    df_test = pd.read_csv(\"../../data/entity_labels/\"+d)\n",
    "    df_test=df_test.dropna(subset=['questions'])\n",
    "    f_prediction = []\n",
    "    a = time.time()\n",
    "    for sentence in df_test['questions']:\n",
    "        f_prediction.append(langid.classify(sentence)[0])\n",
    "    b = time.time()\n",
    "    c = b-a\n",
    "    times.append(c/len(f_prediction))\n",
    "    scores.append(accuracy_score(df_test['lang'], f_prediction))"
   ]
  },
  {
   "cell_type": "code",
   "execution_count": 6,
   "metadata": {},
   "outputs": [
    {
     "data": {
      "text/plain": [
       "[0.694180862009832,\n",
       " 0.33021573762314504,\n",
       " 0.448559670781893,\n",
       " 0.33216212824695696,\n",
       " 0.5754475703324808,\n",
       " 0.28193832599118945,\n",
       " 0.5662650602409639]"
      ]
     },
     "execution_count": 6,
     "metadata": {},
     "output_type": "execute_result"
    }
   ],
   "source": [
    "scores"
   ]
  },
  {
   "cell_type": "code",
   "execution_count": 7,
   "metadata": {},
   "outputs": [
    {
     "data": {
      "text/plain": [
       "[0.0008171121501998927,\n",
       " 0.0007043436944507009,\n",
       " 0.0007117079118642296,\n",
       " 0.0007544856311416578,\n",
       " 0.0007447800063111288,\n",
       " 0.0007365243550439239,\n",
       " 0.0010267366845923733]"
      ]
     },
     "execution_count": 7,
     "metadata": {},
     "output_type": "execute_result"
    }
   ],
   "source": [
    "times"
   ]
  },
  {
   "cell_type": "code",
   "execution_count": null,
   "metadata": {},
   "outputs": [],
   "source": []
  }
 ],
 "metadata": {
  "kernelspec": {
   "display_name": "Python 2",
   "language": "python",
   "name": "python2"
  },
  "language_info": {
   "codemirror_mode": {
    "name": "ipython",
    "version": 2
   },
   "file_extension": ".py",
   "mimetype": "text/x-python",
   "name": "python",
   "nbconvert_exporter": "python",
   "pygments_lexer": "ipython2",
   "version": "2.7.18"
  }
 },
 "nbformat": 4,
 "nbformat_minor": 4
}
